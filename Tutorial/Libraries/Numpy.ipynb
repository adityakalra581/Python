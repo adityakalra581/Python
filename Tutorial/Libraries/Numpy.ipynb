{
 "cells": [
  {
   "cell_type": "markdown",
   "metadata": {},
   "source": [
    "## [Numpy Tutorial](https://numpy.org/)\n",
    "\n",
    "- NumPy is a library for the Python programming language, adding support for large, multi-dimensional arrays and matrices, along with a large collection of high-level mathematical functions to operate on these arrays."
   ]
  },
  {
   "cell_type": "code",
   "execution_count": 1,
   "metadata": {},
   "outputs": [],
   "source": [
    "import numpy as np"
   ]
  },
  {
   "cell_type": "markdown",
   "metadata": {},
   "source": [
    "### [np.zeros](https://docs.scipy.org/doc/numpy/reference/generated/numpy.zeros.html)\n",
    "\n",
    "$$np.zeros(shape, dtype=float, order='C')$$\n",
    "\n",
    "- Return a new array of given shape and type, **filled with zeros.**"
   ]
  },
  {
   "cell_type": "code",
   "execution_count": 17,
   "metadata": {},
   "outputs": [
    {
     "name": "stdout",
     "output_type": "stream",
     "text": [
      "1-D Array of Zeros:  \n",
      " [0. 0. 0.]\n",
      "Shape of 1-D Array:  (3,)\n",
      "\n",
      "2-D Array of Zeros:  \n",
      " [[0. 0. 0.]\n",
      " [0. 0. 0.]\n",
      " [0. 0. 0.]]\n",
      "Shape of 2-D Array:  (3, 3)\n",
      "\n",
      "3-D Array of Zeros:  \n",
      " [[[0. 0. 0.]\n",
      "  [0. 0. 0.]\n",
      "  [0. 0. 0.]]\n",
      "\n",
      " [[0. 0. 0.]\n",
      "  [0. 0. 0.]\n",
      "  [0. 0. 0.]]\n",
      "\n",
      " [[0. 0. 0.]\n",
      "  [0. 0. 0.]\n",
      "  [0. 0. 0.]]]\n",
      "Shape of 3-D Array:  (3, 3, 3)\n"
     ]
    }
   ],
   "source": [
    "one_d = np.zeros(3)\n",
    "print(\"1-D Array of Zeros: \",'\\n',one_d)\n",
    "print(\"Shape of 1-D Array: \",one_d.shape)\n",
    "print()\n",
    "\n",
    "two_d = np.zeros((3,3))\n",
    "print(\"2-D Array of Zeros: \",'\\n',two_d)\n",
    "print(\"Shape of 2-D Array: \",two_d.shape)\n",
    "print()\n",
    "\n",
    "\n",
    "three_d = np.zeros(((3,3,3)))\n",
    "print(\"3-D Array of Zeros: \",'\\n',three_d)\n",
    "print(\"Shape of 3-D Array: \",three_d.shape)"
   ]
  },
  {
   "cell_type": "markdown",
   "metadata": {},
   "source": [
    "### [np.ones](https://docs.scipy.org/doc/numpy/reference/generated/numpy.ones.html)\n",
    "\n",
    "$$np.ones(shape, dtype=None, order='C')$$\n",
    "- Return a new array of given shape and type, filled with ones."
   ]
  },
  {
   "cell_type": "code",
   "execution_count": 18,
   "metadata": {},
   "outputs": [
    {
     "name": "stdout",
     "output_type": "stream",
     "text": [
      "1-D Array of Ones:  \n",
      " [1. 1. 1.]\n",
      "Shape of 1-D Array:  (3,)\n",
      "\n",
      "2-D Array of Ones:  \n",
      " [[1. 1. 1.]\n",
      " [1. 1. 1.]\n",
      " [1. 1. 1.]]\n",
      "Shape of 2-D Array:  (3, 3)\n",
      "\n",
      "3-D Array of Ones:  \n",
      " [[[1. 1. 1.]\n",
      "  [1. 1. 1.]\n",
      "  [1. 1. 1.]]\n",
      "\n",
      " [[1. 1. 1.]\n",
      "  [1. 1. 1.]\n",
      "  [1. 1. 1.]]\n",
      "\n",
      " [[1. 1. 1.]\n",
      "  [1. 1. 1.]\n",
      "  [1. 1. 1.]]]\n",
      "Shape of 3-D Array:  (3, 3, 3)\n"
     ]
    }
   ],
   "source": [
    "one_d = np.ones(3)\n",
    "print(\"1-D Array of Ones: \",'\\n',one_d)\n",
    "print(\"Shape of 1-D Array: \",one_d.shape)\n",
    "print()\n",
    "\n",
    "two_d = np.ones((3,3))\n",
    "print(\"2-D Array of Ones: \",'\\n',two_d)\n",
    "print(\"Shape of 2-D Array: \",two_d.shape)\n",
    "print()\n",
    "\n",
    "\n",
    "three_d = np.ones(((3,3,3)))\n",
    "print(\"3-D Array of Ones: \",'\\n',three_d)\n",
    "print(\"Shape of 3-D Array: \",three_d.shape)"
   ]
  },
  {
   "cell_type": "markdown",
   "metadata": {},
   "source": [
    "### [np.arange](https://docs.scipy.org/doc/numpy/reference/generated/numpy.arange.html)\n",
    "\n",
    "- **np.arange([start, ]stop, [step, ]dtype=None)**\n",
    "\n",
    "Return evenly spaced values within a given interval.\n",
    "\n",
    "Values are generated within the half-open interval [start, stop) (in other words, the interval including start but excluding stop). For integer arguments the function is equivalent to the Python built-in range function, but returns an ndarray rather than a list.\n",
    "\n",
    "**When using a non-integer step, such as 0.1, the results will often not be consistent. It is better to use numpy.linspace for these cases.**"
   ]
  },
  {
   "cell_type": "code",
   "execution_count": 5,
   "metadata": {},
   "outputs": [
    {
     "name": "stdout",
     "output_type": "stream",
     "text": [
      "Creation of an Array from 1-9: [1 2 3 4 5 6 7 8 9]\n",
      "\n",
      "Creation of an Array from 1-9 with step = 2: [1 3 5 7 9]\n",
      "\n",
      "Creation of an Array from 0-9 : [0 1 2 3 4 5 6 7 8 9]\n"
     ]
    }
   ],
   "source": [
    "print(\"Creation of an Array from 1-9:\",np.arange(1,10))\n",
    "print()\n",
    "print(\"Creation of an Array from 1-9 with step = 2:\",np.arange(1,10,2))\n",
    "print()\n",
    "print(\"Creation of an Array from 0-9 :\",np.arange(10))\n"
   ]
  },
  {
   "cell_type": "markdown",
   "metadata": {},
   "source": [
    "### [np.linspace](https://docs.scipy.org/doc/numpy/reference/generated/numpy.linspace.html)\n",
    "\n",
    "- **np.linspace(start, stop, num=50, endpoint=True, retstep=False, dtype=None, axis=0)**\n",
    "\n",
    "- Return evenly spaced numbers over a specified interval.\n",
    "\n",
    "Returns num evenly spaced samples, calculated over the interval [start, stop].\n",
    "\n",
    "The endpoint of the interval can optionally be excluded."
   ]
  },
  {
   "cell_type": "code",
   "execution_count": 18,
   "metadata": {},
   "outputs": [
    {
     "name": "stdout",
     "output_type": "stream",
     "text": [
      "array of 1-2, Including Endpoint  [1.   1.25 1.5  1.75 2.  ]\n",
      "\n",
      "array of 1-2, Including Endpoint  [ 1.  2.  3.  4.  5.  6.  7.  8.  9. 10.]\n",
      "\n",
      "array of 1-2, Including Endpoint  (array([1.  , 1.25, 1.5 , 1.75, 2.  ]), 0.25)\n",
      "\n"
     ]
    }
   ],
   "source": [
    "print(\"array of 1-2, Including Endpoint \",np.linspace(1,2,num=5,endpoint=True))\n",
    "print()\n",
    "print(\"array of 1-11, Excluding Endpoint \",np.linspace(1,11,num=10,endpoint=False))\n",
    "print()\n",
    "print(\"array of 1-2, Including Endpoint \",np.linspace(1,2,num=5,endpoint=True,retstep=True))\n",
    "print()\n"
   ]
  },
  {
   "cell_type": "markdown",
   "metadata": {},
   "source": [
    "### [np.reshape](https://docs.scipy.org/doc/numpy/reference/generated/numpy.reshape.html)\n",
    "\n",
    "- **np.reshape(a, newshape, order='C')**\n",
    "\n",
    "- Gives a new shape to an array without changing its data."
   ]
  },
  {
   "cell_type": "code",
   "execution_count": 25,
   "metadata": {},
   "outputs": [
    {
     "name": "stdout",
     "output_type": "stream",
     "text": [
      "Initial 1-D Array: \n",
      " [0 1 2 3 4 5 6 7 8]\n",
      "The Shape of Array is: \n",
      " (9,)\n",
      "Modified Array : \n",
      " [[0 1 2]\n",
      " [3 4 5]\n",
      " [6 7 8]]\n",
      "Shape of modified Array : \n",
      " (3, 3)\n",
      "\n",
      "Initial 1-D Array: \n",
      " [0 1 2 3 4 5 6 7 8 9]\n",
      "The Shape of Array is: \n",
      " (10,)\n",
      "Modified Array : \n",
      " [[0 1 2 3 4]\n",
      " [5 6 7 8 9]]\n",
      "Shape of modified Array : \n",
      " (2, 5)\n"
     ]
    }
   ],
   "source": [
    "## Let's create a 1-D Array using np.arange and then reshape it.\n",
    "\n",
    "x = np.arange(9)\n",
    "print(\"Initial 1-D Array:\",'\\n',x)\n",
    "print(\"The Shape of Array is:\",'\\n',x.shape)\n",
    "x_ = np.reshape(x,(3,3))\n",
    "print(\"Modified Array :\",'\\n',x_)\n",
    "print(\"Shape of modified Array :\",'\\n',x_.shape)\n",
    "\n",
    "## NOTE : The number of elements in the Initial array must alwyas be equal to the product of the integers of new shape:\n",
    "## here number of elements = 9 \n",
    "## And new desired shape is = 3,3  (Product of these two is 9)\n",
    "\n",
    "## Take Another Example:\n",
    "print()\n",
    "x = np.arange(10)\n",
    "print(\"Initial 1-D Array:\",'\\n',x)\n",
    "print(\"The Shape of Array is:\",'\\n',x.shape)\n",
    "x_ = np.reshape(x,(2,5))\n",
    "print(\"Modified Array :\",'\\n',x_)\n",
    "print(\"Shape of modified Array :\",'\\n',x_.shape)\n",
    "\n",
    "## 10 elements = 2,5 shape."
   ]
  },
  {
   "cell_type": "code",
   "execution_count": null,
   "metadata": {},
   "outputs": [],
   "source": []
  }
 ],
 "metadata": {
  "kernelspec": {
   "display_name": "Python 3",
   "language": "python",
   "name": "python3"
  },
  "language_info": {
   "codemirror_mode": {
    "name": "ipython",
    "version": 3
   },
   "file_extension": ".py",
   "mimetype": "text/x-python",
   "name": "python",
   "nbconvert_exporter": "python",
   "pygments_lexer": "ipython3",
   "version": "3.7.3"
  }
 },
 "nbformat": 4,
 "nbformat_minor": 2
}
