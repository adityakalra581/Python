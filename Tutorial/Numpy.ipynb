{
 "cells": [
  {
   "cell_type": "markdown",
   "metadata": {},
   "source": [
    "## [Numpy Tutorial](https://numpy.org/)\n",
    "\n",
    "- NumPy is a library for the Python programming language, adding support for large, multi-dimensional arrays and matrices, along with a large collection of high-level mathematical functions to operate on these arrays."
   ]
  },
  {
   "cell_type": "code",
   "execution_count": 1,
   "metadata": {},
   "outputs": [],
   "source": [
    "import numpy as np"
   ]
  },
  {
   "cell_type": "markdown",
   "metadata": {},
   "source": [
    "### [np.zeros](https://docs.scipy.org/doc/numpy/reference/generated/numpy.zeros.html)\n",
    "\n",
    "$$np.zeros(shape, dtype=float, order='C')$$\n",
    "\n",
    "- Return a new array of given shape and type, **filled with zeros.**"
   ]
  },
  {
   "cell_type": "code",
   "execution_count": 17,
   "metadata": {},
   "outputs": [
    {
     "name": "stdout",
     "output_type": "stream",
     "text": [
      "1-D Array of Zeros:  \n",
      " [0. 0. 0.]\n",
      "Shape of 1-D Array:  (3,)\n",
      "\n",
      "2-D Array of Zeros:  \n",
      " [[0. 0. 0.]\n",
      " [0. 0. 0.]\n",
      " [0. 0. 0.]]\n",
      "Shape of 2-D Array:  (3, 3)\n",
      "\n",
      "3-D Array of Zeros:  \n",
      " [[[0. 0. 0.]\n",
      "  [0. 0. 0.]\n",
      "  [0. 0. 0.]]\n",
      "\n",
      " [[0. 0. 0.]\n",
      "  [0. 0. 0.]\n",
      "  [0. 0. 0.]]\n",
      "\n",
      " [[0. 0. 0.]\n",
      "  [0. 0. 0.]\n",
      "  [0. 0. 0.]]]\n",
      "Shape of 3-D Array:  (3, 3, 3)\n"
     ]
    }
   ],
   "source": [
    "one_d = np.zeros(3)\n",
    "print(\"1-D Array of Zeros: \",'\\n',one_d)\n",
    "print(\"Shape of 1-D Array: \",one_d.shape)\n",
    "print()\n",
    "\n",
    "two_d = np.zeros((3,3))\n",
    "print(\"2-D Array of Zeros: \",'\\n',two_d)\n",
    "print(\"Shape of 2-D Array: \",two_d.shape)\n",
    "print()\n",
    "\n",
    "\n",
    "three_d = np.zeros(((3,3,3)))\n",
    "print(\"3-D Array of Zeros: \",'\\n',three_d)\n",
    "print(\"Shape of 3-D Array: \",three_d.shape)"
   ]
  },
  {
   "cell_type": "markdown",
   "metadata": {},
   "source": [
    "### [np.ones](https://docs.scipy.org/doc/numpy/reference/generated/numpy.ones.html)\n",
    "\n",
    "$$np.ones(shape, dtype=None, order='C')$$\n",
    "- Return a new array of given shape and type, filled with ones."
   ]
  },
  {
   "cell_type": "code",
   "execution_count": 18,
   "metadata": {},
   "outputs": [
    {
     "name": "stdout",
     "output_type": "stream",
     "text": [
      "1-D Array of Ones:  \n",
      " [1. 1. 1.]\n",
      "Shape of 1-D Array:  (3,)\n",
      "\n",
      "2-D Array of Ones:  \n",
      " [[1. 1. 1.]\n",
      " [1. 1. 1.]\n",
      " [1. 1. 1.]]\n",
      "Shape of 2-D Array:  (3, 3)\n",
      "\n",
      "3-D Array of Ones:  \n",
      " [[[1. 1. 1.]\n",
      "  [1. 1. 1.]\n",
      "  [1. 1. 1.]]\n",
      "\n",
      " [[1. 1. 1.]\n",
      "  [1. 1. 1.]\n",
      "  [1. 1. 1.]]\n",
      "\n",
      " [[1. 1. 1.]\n",
      "  [1. 1. 1.]\n",
      "  [1. 1. 1.]]]\n",
      "Shape of 3-D Array:  (3, 3, 3)\n"
     ]
    }
   ],
   "source": [
    "one_d = np.ones(3)\n",
    "print(\"1-D Array of Ones: \",'\\n',one_d)\n",
    "print(\"Shape of 1-D Array: \",one_d.shape)\n",
    "print()\n",
    "\n",
    "two_d = np.ones((3,3))\n",
    "print(\"2-D Array of Ones: \",'\\n',two_d)\n",
    "print(\"Shape of 2-D Array: \",two_d.shape)\n",
    "print()\n",
    "\n",
    "\n",
    "three_d = np.ones(((3,3,3)))\n",
    "print(\"3-D Array of Ones: \",'\\n',three_d)\n",
    "print(\"Shape of 3-D Array: \",three_d.shape)"
   ]
  },
  {
   "cell_type": "code",
   "execution_count": null,
   "metadata": {},
   "outputs": [],
   "source": []
  }
 ],
 "metadata": {
  "kernelspec": {
   "display_name": "Python 3",
   "language": "python",
   "name": "python3"
  },
  "language_info": {
   "codemirror_mode": {
    "name": "ipython",
    "version": 3
   },
   "file_extension": ".py",
   "mimetype": "text/x-python",
   "name": "python",
   "nbconvert_exporter": "python",
   "pygments_lexer": "ipython3",
   "version": "3.7.3"
  }
 },
 "nbformat": 4,
 "nbformat_minor": 2
}
