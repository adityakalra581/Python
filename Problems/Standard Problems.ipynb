{
 "cells": [
  {
   "cell_type": "code",
   "execution_count": 5,
   "metadata": {},
   "outputs": [
    {
     "output_type": "stream",
     "name": "stdout",
     "text": "Not Prime\n"
    }
   ],
   "source": [
    "x=int(input())\n",
    "for i in range(2,x):\n",
    "    if x%i==0:\n",
    "        print(\"Not Prime\")\n",
    "        break\n",
    "    else:\n",
    "        if i==x-1:\n",
    "            print(\"Prime\")\n",
    "        else:\n",
    "            continue\n",
    "\n",
    "## Inefficient Program:\n",
    "## Time Complexity O(n)"
   ]
  },
  {
   "cell_type": "code",
   "execution_count": 11,
   "metadata": {},
   "outputs": [
    {
     "output_type": "stream",
     "name": "stdout",
     "text": "Prime\n"
    }
   ],
   "source": [
    "import math\n",
    "x=int(input())\n",
    "c=math.ceil(math.sqrt(x))\n",
    "for i in range(2,c+1):\n",
    "    if x%i==0:\n",
    "        print(\"Not Prime\")\n",
    "        break\n",
    "    else:\n",
    "        if i==c:\n",
    "            print(\"Prime\")\n",
    "        else:\n",
    "            continue\n",
    "\n",
    "## Workinh Perfectly.\n",
    "## Time Complexity reduced as the number of operations performed is only underroot of n."
   ]
  },
  {
   "cell_type": "code",
   "execution_count": 2,
   "metadata": {},
   "outputs": [
    {
     "output_type": "stream",
     "name": "stdout",
     "text": "Is Palindrome\n"
    }
   ],
   "source": [
    "## Palindrome or not\n",
    "\n",
    "x=list(input())\n",
    "y=[]\n",
    "n=len(x)\n",
    "for i in range(n):\n",
    "    x[i],x[n-i-1]=x[n-i-1],x[i]\n",
    "    y.append(x[i])\n",
    "if x==y:\n",
    "    print(\"Is Palindrome\")\n",
    "else:\n",
    "    print(\"Is not Palindrome\")"
   ]
  },
  {
   "cell_type": "code",
   "execution_count": 5,
   "metadata": {},
   "outputs": [
    {
     "output_type": "stream",
     "name": "stdout",
     "text": "Input is any other character\n"
    }
   ],
   "source": [
    "## Classification of input as Character, Digit, any other\n",
    "\n",
    "x=input()\n",
    "\n",
    "try:\n",
    "    z=ord(x)\n",
    "except:\n",
    "    print(\"Input is a digit\")\n",
    "    z=-1\n",
    "if z>0:\n",
    "    if z>=65 and z<=122:\n",
    "        print(\"Input is a character\")\n",
    "    else:\n",
    "        print(\"Input is any other character\")\n",
    "\n"
   ]
  },
  {
   "cell_type": "code",
   "execution_count": 17,
   "metadata": {},
   "outputs": [
    {
     "output_type": "execute_result",
     "data": {
      "text/plain": "34"
     },
     "metadata": {},
     "execution_count": 17
    }
   ],
   "source": [
    "## Fibonacci using Recursion\n",
    "\n",
    "\n",
    "## 0,1,1,2,3,5,8,13,21,34,55.......\n",
    "\n",
    "## REQUIRED OUTPUT:\n",
    "\n",
    "# fib(0)=0\n",
    "# fib(1)=1\n",
    "#   .\n",
    "#   .\n",
    "#   .\n",
    "# fib(8)=21\n",
    "def fib(n):\n",
    "    if n==0:\n",
    "        return 0\n",
    "    elif n==1:\n",
    "        return 1\n",
    "    else:\n",
    "        return fib(n-2)+fib(n-1)\n",
    "\n",
    "\n",
    "\n",
    "fib(8)\n",
    "# 21\n",
    "fib(9)\n",
    "# 34"
   ]
  },
  {
   "cell_type": "code",
   "execution_count": 2,
   "metadata": {},
   "outputs": [
    {
     "output_type": "execute_result",
     "data": {
      "text/plain": "5"
     },
     "metadata": {},
     "execution_count": 2
    }
   ],
   "source": [
    "## Binary Seacrh:\n",
    "\n",
    "## where x is an sorted array\n",
    "## This program will return the index of the search element if it is present in the array.\n",
    "## And if not present it will return -1\n",
    "\n",
    "def binarysearch(x,value):\n",
    "    head = 0\n",
    "    tail = len(x)-1\n",
    "    while head<=tail:\n",
    "        half=int((head+tail)/2)\n",
    "        if x[half]==value:\n",
    "            return half\n",
    "        elif x[half]>value:    ## That means value can lie on the left side of the half\n",
    "            tail=half-1\n",
    "        else:\n",
    "            head=half+1\n",
    "    return -1\n",
    "    \n",
    "\n",
    "x = [1,2,3,4,5,6] \n",
    "binarysearch(x,6)"
   ]
  },
  {
   "cell_type": "code",
   "execution_count": null,
   "metadata": {},
   "outputs": [],
   "source": []
  }
 ],
 "metadata": {
  "kernelspec": {
   "display_name": "Python 3",
   "language": "python",
   "name": "python3"
  }
 },
 "nbformat": 4,
 "nbformat_minor": 2
}