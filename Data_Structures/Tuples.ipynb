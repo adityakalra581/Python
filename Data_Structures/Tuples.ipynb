{
 "cells": [
  {
   "cell_type": "markdown",
   "metadata": {},
   "source": [
    "### Getting Started with Tuples"
   ]
  },
  {
   "cell_type": "code",
   "execution_count": 1,
   "metadata": {},
   "outputs": [
    {
     "data": {
      "text/plain": [
       "tuple"
      ]
     },
     "execution_count": 1,
     "metadata": {},
     "output_type": "execute_result"
    }
   ],
   "source": [
    "t1=('a','b')\n",
    "type(t1)"
   ]
  },
  {
   "cell_type": "markdown",
   "metadata": {},
   "source": [
    "### 1.) Creating a tuple"
   ]
  },
  {
   "cell_type": "code",
   "execution_count": 2,
   "metadata": {},
   "outputs": [
    {
     "name": "stdout",
     "output_type": "stream",
     "text": [
      "Enter the length of tuple: 5\n",
      "Enter the element: 5\n",
      "Enter the element: 4\n",
      "Enter the element: 7\n",
      "Enter the element: 8\n",
      "Enter the element: 9\n",
      "('5', '4', '7', '8', '9')\n"
     ]
    }
   ],
   "source": [
    "t=tuple()\n",
    "n=int(input(\"Enter the length of tuple: \"))\n",
    "for i in range(n):\n",
    "    a=input(\"Enter the element: \")\n",
    "    t=t+ (a,)\n",
    "print(t)    "
   ]
  },
  {
   "cell_type": "markdown",
   "metadata": {},
   "source": [
    "### 2.) WAP to store N number of subjects in tuple "
   ]
  },
  {
   "cell_type": "code",
   "execution_count": 5,
   "metadata": {},
   "outputs": [
    {
     "name": "stdout",
     "output_type": "stream",
     "text": [
      "Enter the number of subjects : 5\n",
      "Enter The Subject: English\n",
      "Enter The Subject: Maths\n",
      "Enter The Subject: Science\n",
      "Enter The Subject: Geo\n",
      "Enter The Subject: Bio\n",
      "('English', 'Maths', 'Science', 'Geo', 'Bio')\n"
     ]
    }
   ],
   "source": [
    "R=tuple()\n",
    "n=int(input(\"Enter the number of subjects : \"))\n",
    "for i in range(n):\n",
    "    a=input(\"Enter The Subject: \")\n",
    "    R+= (a,)\n",
    "print(R)    \n",
    "    "
   ]
  },
  {
   "cell_type": "markdown",
   "metadata": {},
   "source": [
    "### 3.) Accesing and Traversing Tuple"
   ]
  },
  {
   "cell_type": "code",
   "execution_count": 14,
   "metadata": {},
   "outputs": [
    {
     "name": "stdout",
     "output_type": "stream",
     "text": [
      "<class 'tuple'>\n",
      "10\n",
      "40\n",
      "70\n",
      "_________________________\n",
      "10\n",
      "20\n",
      "30\n",
      "40\n",
      "50\n",
      "60\n",
      "70\n",
      "________________________________\n",
      "10\n",
      "20\n",
      "30\n",
      "40\n",
      "50\n",
      "60\n",
      "70\n"
     ]
    }
   ],
   "source": [
    "tup= (10,20,30,40,50,60,70)\n",
    "print(type(tup))\n",
    "\n",
    "# Accesing an element.\n",
    "print(tup[0])\n",
    "print(tup[-4])\n",
    "print(tup[-1])\n",
    "\n",
    "print(\"_________________________\")\n",
    "\n",
    "# traversing using for loop\n",
    "for i in tup:\n",
    "    print(i)\n",
    "\n",
    "print(\"________________________________\")    \n",
    "#  traversing using range function\n",
    "\n",
    "n=len(tup)\n",
    "for j in range(n):\n",
    "    print(tup[j])"
   ]
  },
  {
   "cell_type": "markdown",
   "metadata": {},
   "source": [
    "### Tuple Slicing\n",
    "\n",
    "**Syntax: tuplename[start:stop:step]**\n",
    "\n",
    "Imp: $Stop$ is **Exclusive**.\n",
    "\n",
    "If stop = 3 slicing will be done till 2."
   ]
  },
  {
   "cell_type": "code",
   "execution_count": 32,
   "metadata": {},
   "outputs": [
    {
     "name": "stdout",
     "output_type": "stream",
     "text": [
      "('m', 'b', 'o', 'u')\n",
      "_________________\n",
      "('u', 'r')\n",
      "_________________\n",
      "('m', 'b', 'o', 'u')\n",
      "_________________\n",
      "('o', 'u', 'r')\n",
      "_________________\n",
      "('j', 'r', 'u')\n"
     ]
    }
   ],
   "source": [
    "y=('a','m','b','o','u','r','j')\n",
    "\n",
    "# Slicing the tuple\n",
    "\n",
    "# Effort to obtain the 1st to 4th index element\n",
    "\n",
    "print(y[1:5:1])\n",
    "\n",
    "print(\"_________________\")\n",
    "\n",
    "print(y[4:6])\n",
    "\n",
    "# The by default step is 1.\n",
    "\n",
    "\n",
    "print(\"_________________\")\n",
    "\n",
    "# Trying to slice with reverse indexing\n",
    "\n",
    "print(y[-6:-2])\n",
    "\n",
    "\n",
    "print(\"_________________\")\n",
    "\n",
    "print(y[3:-1:1])\n",
    "\n",
    "print(\"_________________\")\n",
    "\n",
    "print(y[-1:3:-1])"
   ]
  },
  {
   "cell_type": "markdown",
   "metadata": {},
   "source": [
    "### Tuple Concatenation/Addition"
   ]
  },
  {
   "cell_type": "markdown",
   "metadata": {},
   "source": [
    "#### 1. Simply adding two tuples"
   ]
  },
  {
   "cell_type": "code",
   "execution_count": 36,
   "metadata": {},
   "outputs": [
    {
     "name": "stdout",
     "output_type": "stream",
     "text": [
      "(1, 5, 8, 9, 2, 4, 7, 0)\n",
      "<class 'tuple'>\n"
     ]
    }
   ],
   "source": [
    "m=(1,5,8,9)\n",
    "u=(2,4,7,0)\n",
    "z= m+u\n",
    "\n",
    "print(z)\n",
    "print(type(z))"
   ]
  },
  {
   "cell_type": "markdown",
   "metadata": {},
   "source": [
    "#### 2.Slicing and adding"
   ]
  },
  {
   "cell_type": "code",
   "execution_count": 38,
   "metadata": {},
   "outputs": [
    {
     "name": "stdout",
     "output_type": "stream",
     "text": [
      "('b', 'c', 'd', 1, 2, 3)\n",
      "('b', 'c', 'd', 'ok', 'bye')\n"
     ]
    }
   ],
   "source": [
    "a=('a','b','c','d','e')\n",
    "x=(1,2,3,4,5)\n",
    "\n",
    "z=a[1:4]+x[0:3]\n",
    "t=a[1:4]+('ok','bye')\n",
    "\n",
    "print(z)\n",
    "print(t)"
   ]
  },
  {
   "cell_type": "markdown",
   "metadata": {},
   "source": [
    "### Tuple Multiplication"
   ]
  },
  {
   "cell_type": "code",
   "execution_count": 7,
   "metadata": {},
   "outputs": [
    {
     "name": "stdout",
     "output_type": "stream",
     "text": [
      "(1, 2, 5, 8, 1, 2, 5, 8)\n",
      "______________________________________\n",
      "('abba!', 'dabba!', 'jabba', 'abba!', 'dabba!', 'jabba')\n",
      "______________________________________\n",
      "('abba!', 'dabba!', 'abba!', 'dabba!')\n"
     ]
    }
   ],
   "source": [
    "b=(1,2,5,8)\n",
    "c=b*2\n",
    "\n",
    "# Multilication of tuple gives tuple multiple times.\n",
    "print(c)\n",
    "\n",
    "print(\"______________________________________\")\n",
    "x=('abba!','dabba!','jabba')\n",
    "y=x*2\n",
    "print(y)\n",
    "print(\"______________________________________\")\n",
    "\n",
    "v=x[0:2]*2\n",
    "print(v)\n",
    "\n"
   ]
  },
  {
   "cell_type": "markdown",
   "metadata": {},
   "source": [
    "### In and Not In operator"
   ]
  },
  {
   "cell_type": "code",
   "execution_count": 12,
   "metadata": {},
   "outputs": [
    {
     "name": "stdout",
     "output_type": "stream",
     "text": [
      "True\n",
      "_____________________\n",
      "True\n",
      "_____________________\n",
      "False\n",
      "_____________________\n",
      "False\n"
     ]
    }
   ],
   "source": [
    "r=(1,2,78,90)\n",
    "\n",
    "# in will check the specified element is in the tuple or not.\n",
    "print(78 in r )\n",
    "print(\"_____________________\")\n",
    "# not in will check the specified element is not in the tuple or not.\n",
    "print(89 not in r)\n",
    "print(\"_____________________\")\n",
    "\n",
    "# Expected answer: False as 77 is not in r\n",
    "print(77 in r)\n",
    "\n",
    "print(\"_____________________\")\n",
    "\n",
    "\n",
    "# Expected answer: False as 90 is not in r\n",
    "print(90 not in r)\n"
   ]
  },
  {
   "cell_type": "markdown",
   "metadata": {},
   "source": [
    "### Tuple Functions:\n",
    "\n",
    "1.)  $len()$\n",
    "\n",
    "2.)  tuplename$.count()$\n",
    "\n",
    "3.)  $any$(tuplename)\n",
    "\n",
    "4.)  $max/min$(tuplename)\n",
    "\n",
    "5.)  $sorted$(tuplename)\n",
    "\n",
    "6.)  tuplename.$index$(value,start,end)"
   ]
  },
  {
   "cell_type": "code",
   "execution_count": 30,
   "metadata": {},
   "outputs": [
    {
     "name": "stdout",
     "output_type": "stream",
     "text": [
      "<class 'tuple'>\n",
      "1\n",
      "_______________________________\n",
      "The Count is :  2\n",
      "The Count is :  2\n",
      "_______________________________\n",
      "any element present in X tuple: True\n",
      "_______________________________\n",
      "(123, 456, 78, 90, 12, 111)\n",
      "The maximum value in Y is : 456\n",
      "The minimum value in Y is : 12\n",
      "_______________________________\n",
      "(123, 456, 78, 90, 12, 111)\n",
      "[12, 78, 90, 111, 123, 456]\n",
      "<class 'tuple'>\n",
      "_______________________________\n",
      "the index is:  0\n",
      "the index is:  5\n"
     ]
    }
   ],
   "source": [
    "\n",
    "# tuple can be of mixed type.\n",
    "x=('a',65,'uio',907,'p',907,'a')\n",
    "\n",
    "print(type(x))\n",
    "# finding the length of the tuple\n",
    "l=len(a)\n",
    "print(l)\n",
    "print(\"_______________________________\")\n",
    "\n",
    "# Finding a count of an item.\n",
    "print(\"The Count is : \",x.count('a'))\n",
    "print(\"The Count is : \",x.count(907))\n",
    "\n",
    "print(\"_______________________________\")\n",
    "\n",
    "\n",
    "# any()\n",
    "# this will tell us whether the tuple has any element in it or not\n",
    "\n",
    "print(\"any element present in X tuple:\",any(x))\n",
    "\n",
    "print(\"_______________________________\")\n",
    "\n",
    "# min() and max()\n",
    "# for min and max to work the tuple must be of one type \n",
    "# either it should be all int or all string.\n",
    "\n",
    "y=(123,456,78,90,12,111)\n",
    "print(y)\n",
    "print(\"The maximum value in Y is :\",max(y))\n",
    "print(\"The minimum value in Y is :\",min(y))\n",
    "\n",
    "\n",
    "print(\"_______________________________\")\n",
    "\n",
    "# sorted(tuplename)\n",
    "# IMP: After sorting the tuple List is returned.\n",
    "\n",
    "print(y)\n",
    "print(sorted(y))\n",
    "\n",
    "# IMPORTANT:\n",
    "# data type remains tuple but list will be returned.\n",
    "\n",
    "print(type(y))\n",
    "\n",
    "\n",
    "\n",
    "print(\"_______________________________\")\n",
    "\n",
    "\n",
    "# tuple.index(value,start,end)\n",
    "\n",
    "m=(123,456,78,90,12,123,111)\n",
    "print(\"the index is: \",m.index(123))\n",
    "\n",
    "# the below code will start searching the value 123 after 2nd index and check it till 6th index.\n",
    "print(\"the index is: \",m.index(123,2,6))"
   ]
  },
  {
   "cell_type": "markdown",
   "metadata": {},
   "source": [
    "### Comparing Tuples\n",
    "\n",
    "Tuples compare each other element wise.\n",
    "\n",
    "if the first element comparison gives a result then it does not matter \n",
    "what are the subsequent elements."
   ]
  },
  {
   "cell_type": "code",
   "execution_count": 32,
   "metadata": {},
   "outputs": [
    {
     "name": "stdout",
     "output_type": "stream",
     "text": [
      "False\n",
      "___________________________\n",
      "True\n"
     ]
    }
   ],
   "source": [
    "c=(0,10,20)\n",
    "d=(1,0,0)\n",
    "\n",
    "# expected : false as d(0)> c(0) other elements does not matter.\n",
    "print(c>d)\n",
    "\n",
    "print('___________________________')\n",
    "\n",
    "\n",
    "# expected : false.\n",
    "print((100,1000,10000)>(100,0,200000000))"
   ]
  },
  {
   "cell_type": "markdown",
   "metadata": {},
   "source": [
    "### Deleting a tuple:\n"
   ]
  },
  {
   "cell_type": "code",
   "execution_count": 33,
   "metadata": {},
   "outputs": [
    {
     "name": "stdout",
     "output_type": "stream",
     "text": [
      "(1, 2, 3, 4, 56)\n"
     ]
    },
    {
     "ename": "NameError",
     "evalue": "name 'tup' is not defined",
     "output_type": "error",
     "traceback": [
      "\u001b[1;31m---------------------------------------------------------------------------\u001b[0m",
      "\u001b[1;31mNameError\u001b[0m                                 Traceback (most recent call last)",
      "\u001b[1;32m<ipython-input-33-3fbb566d98cc>\u001b[0m in \u001b[0;36m<module>\u001b[1;34m\u001b[0m\n\u001b[0;32m      3\u001b[0m \u001b[1;32mdel\u001b[0m \u001b[0mtup\u001b[0m\u001b[1;33m\u001b[0m\u001b[1;33m\u001b[0m\u001b[0m\n\u001b[0;32m      4\u001b[0m \u001b[1;33m\u001b[0m\u001b[0m\n\u001b[1;32m----> 5\u001b[1;33m \u001b[0mprint\u001b[0m\u001b[1;33m(\u001b[0m\u001b[0mtup\u001b[0m\u001b[1;33m)\u001b[0m\u001b[1;33m\u001b[0m\u001b[1;33m\u001b[0m\u001b[0m\n\u001b[0m",
      "\u001b[1;31mNameError\u001b[0m: name 'tup' is not defined"
     ]
    }
   ],
   "source": [
    "tup=(1,2,3,4,56)\n",
    "print(tup)\n",
    "del tup\n",
    "\n",
    "print(tup)"
   ]
  },
  {
   "cell_type": "code",
   "execution_count": null,
   "metadata": {},
   "outputs": [],
   "source": []
  }
 ],
 "metadata": {
  "kernelspec": {
   "display_name": "Python 3",
   "language": "python",
   "name": "python3"
  },
  "language_info": {
   "codemirror_mode": {
    "name": "ipython",
    "version": 3
   },
   "file_extension": ".py",
   "mimetype": "text/x-python",
   "name": "python",
   "nbconvert_exporter": "python",
   "pygments_lexer": "ipython3",
   "version": "3.7.3"
  }
 },
 "nbformat": 4,
 "nbformat_minor": 2
}
