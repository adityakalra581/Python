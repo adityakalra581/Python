{
 "cells": [
  {
   "cell_type": "markdown",
   "metadata": {},
   "source": [
    "## LINKEDLIST\n",
    "\n",
    "\n",
    "- A **linked list** is a linear data structure where each element is a separate object.\n",
    "\n",
    "- Each element (we will call it a $node$) of a list is comprising of two items - **the data and a reference to the next node**.\n",
    "\n",
    "- The last node has a reference to $null$. The entry point into a linked list is called the **head** of the list."
   ]
  },
  {
   "cell_type": "markdown",
   "metadata": {},
   "source": [
    "![](ll.png)"
   ]
  },
  {
   "cell_type": "markdown",
   "metadata": {},
   "source": [
    "![](types-of-linked-list.png)"
   ]
  },
  {
   "cell_type": "markdown",
   "metadata": {},
   "source": [
    "## Why Linked List is Important!\n",
    "\n",
    "![](performancell.png)"
   ]
  },
  {
   "cell_type": "code",
   "execution_count": 16,
   "metadata": {},
   "outputs": [
    {
     "name": "stdout",
     "output_type": "stream",
     "text": [
      "90-->\n",
      "20-->90-->\n",
      "20-->30-->90-->\n"
     ]
    }
   ],
   "source": [
    "class LinkedList:\n",
    "    class Node:\n",
    "        __slots__='element','next'\n",
    "        \n",
    "        # This is the only function that will be used under class 'Node'.\n",
    "        # All the others are under class : LinkedList.\n",
    "        def __init__(self,element,next):\n",
    "            self.element=element\n",
    "            self.next=next\n",
    "    \n",
    "    def __init__(self):\n",
    "        self.head=None\n",
    "        self.tail=None\n",
    "        self.size=0\n",
    "    \n",
    "    \n",
    "    def __len__(self):\n",
    "        return self.size\n",
    "    \n",
    "    def is_empty(self):\n",
    "        #print(\"The List is Empty :\")\n",
    "        return self.size==0\n",
    "    \n",
    "      # Function for adding an element at the Top/beginning of linked list.\n",
    "    def addfirst(self,e):\n",
    "        new=self.Node(e,None)\n",
    "        if self.is_empty():\n",
    "            self.head=new\n",
    "            self.tail=new\n",
    "        else:\n",
    "            new.next=self.head\n",
    "        self.head=new\n",
    "        self.size +=1\n",
    "    \n",
    "    def addlast(self,e):\n",
    "        new=self.Node(e,None)\n",
    "        if self.is_empty():\n",
    "            self.head=new\n",
    "            self.tail=new\n",
    "        else:\n",
    "            self.tail.next=new.next\n",
    "        self.tail = new\n",
    "        self.size  += 1\n",
    "    def addany(self,e,pos):\n",
    "        new=self.Node(e,None)\n",
    "        temp=self.head\n",
    "        i=1\n",
    "        while i<pos:\n",
    "            self.temp=temp.next\n",
    "            i+=1\n",
    "        new.next=temp.next\n",
    "        temp.next=new\n",
    "        self.size +=1    \n",
    "    \n",
    "    \n",
    "    def display(self):\n",
    "        temp=self.head\n",
    "        while temp:\n",
    "            print(temp.element,end='-->')\n",
    "            temp=temp.next\n",
    "        print()\n",
    "        \n",
    "        \n",
    "        \n",
    "        \n",
    "L=LinkedList()\n",
    "#L.addlast(10)\n",
    "L.addfirst(90)\n",
    "L.display()\n",
    "L.addfirst(20)\n",
    "L.display()\n",
    "L.addany(30,1)\n",
    "L.display()  \n",
    "  "
   ]
  },
  {
   "cell_type": "code",
   "execution_count": null,
   "metadata": {},
   "outputs": [],
   "source": []
  }
 ],
 "metadata": {
  "kernelspec": {
   "display_name": "Python 3",
   "language": "python",
   "name": "python3"
  },
  "language_info": {
   "codemirror_mode": {
    "name": "ipython",
    "version": 3
   },
   "file_extension": ".py",
   "mimetype": "text/x-python",
   "name": "python",
   "nbconvert_exporter": "python",
   "pygments_lexer": "ipython3",
   "version": "3.7.3"
  }
 },
 "nbformat": 4,
 "nbformat_minor": 2
}
