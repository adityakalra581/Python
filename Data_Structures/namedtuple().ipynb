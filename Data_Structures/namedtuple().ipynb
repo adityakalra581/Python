{
 "cells": [
  {
   "cell_type": "markdown",
   "metadata": {},
   "source": [
    "### Named tuple()\n",
    "\n",
    "- Python supports a type of container like dictionaries called “namedtuples()” present in module, “collection“. \n",
    "\n",
    "- Like dictionaries they contain keys that are hashed to a particular value. \n",
    "\n",
    "- But on contrary, it supports both access from key value and iteration, **the functionality that dictionaries lack.**"
   ]
  },
  {
   "cell_type": "markdown",
   "metadata": {},
   "source": [
    "### Why to use namedtuple()\n",
    "- Namedtuple makes your tuples self-document.\n",
    "- You can easily understand what is going on by having a quick glance at your code.\n",
    "- And as you are not bound to use integer indexes to access members of a tuple, it makes it more easy to maintain your code.\n",
    "- Moreover, as namedtuple instances do not have per-instance dictionaries, they are lightweight and require no more memory than regular tuples.\n",
    "- *This makes them faster than dictionaries.*"
   ]
  },
  {
   "cell_type": "markdown",
   "metadata": {},
   "source": [
    "### The functionality increases \n",
    "- Accessibility is possible in three ways.\n"
   ]
  },
  {
   "cell_type": "code",
   "execution_count": 18,
   "metadata": {},
   "outputs": [
    {
     "name": "stdout",
     "output_type": "stream",
     "text": [
      "The name of car a is : Ford\n",
      "The model of car a is : a1\n",
      "The color of car a is : black\n"
     ]
    }
   ],
   "source": [
    "import collections\n",
    "Cars=collections.namedtuple('Cars',['name','model','color'])\n",
    "a=Cars('Ford','a1','black')\n",
    "#print(Cars)\n",
    "\n",
    "# Accesing by index\n",
    "print(\"The name of car a is :\",a[0])\n",
    "\n",
    "# Accessing by keys.\n",
    "print(\"The model of car a is :\",a.model)\n",
    "\n",
    "# Accessing by getattr()\n",
    "print(\"The color of car a is :\",getattr(a,'color'))"
   ]
  },
  {
   "cell_type": "markdown",
   "metadata": {},
   "source": [
    "### More functions:\n",
    "-  ._make()\n",
    "-  ._replace()\n",
    "-  ._fields\n",
    "-  ._asdict()\n",
    "-  **"
   ]
  },
  {
   "cell_type": "code",
   "execution_count": 36,
   "metadata": {},
   "outputs": [
    {
     "name": "stdout",
     "output_type": "stream",
     "text": [
      "Cars(name='Honda', model='ax', color='mattice')\n",
      "Cars(name='Ford', model='sx', color='black')\n",
      "<class '__main__.Cars'>\n",
      "('name', 'model', 'color')\n",
      "OrderedDict([('name', 'Ford'), ('model', 'a1'), ('color', 'black')])\n",
      "Cars(name='MG', model='bigm', color='crimson red')\n"
     ]
    }
   ],
   "source": [
    "h=['Honda','ax','mattice']\n",
    "\n",
    "# In order to add entries in a namedtuple()\n",
    "print(Cars._make(h))\n",
    "\n",
    "#  ._replace cannot be done to a list\n",
    "#  it can only be done a namedtuple dedicated tuple.\n",
    "print(a._replace(model='sx'))\n",
    "print(type(a))\n",
    "\n",
    "# ._fields give the keys in the named tuples.\n",
    "print(a._fields)\n",
    "\n",
    "# Conversion into a ordered dictionary.\n",
    "print(a._asdict())\n",
    "\n",
    "# Dictionary converted into a named tuple.\n",
    "s={'name':'MG','model':'bigm','color':'crimson red'}\n",
    "print(Cars(**s))"
   ]
  },
  {
   "cell_type": "markdown",
   "metadata": {},
   "source": [
    "### References:\n",
    "- https://www.geeksforgeeks.org/namedtuple-in-python/\n",
    "- https://pythontips.com/2015/06/06/why-should-you-use-namedtuple-instead-of-a-tuple/"
   ]
  },
  {
   "cell_type": "code",
   "execution_count": null,
   "metadata": {},
   "outputs": [],
   "source": []
  }
 ],
 "metadata": {
  "kernelspec": {
   "display_name": "Python 3",
   "language": "python",
   "name": "python3"
  },
  "language_info": {
   "codemirror_mode": {
    "name": "ipython",
    "version": 3
   },
   "file_extension": ".py",
   "mimetype": "text/x-python",
   "name": "python",
   "nbconvert_exporter": "python",
   "pygments_lexer": "ipython3",
   "version": "3.7.3"
  }
 },
 "nbformat": 4,
 "nbformat_minor": 2
}
