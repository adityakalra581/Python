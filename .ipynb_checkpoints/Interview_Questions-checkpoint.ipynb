{
 "cells": [
  {
   "cell_type": "markdown",
   "metadata": {},
   "source": [
    "- References: https://youtu.be/DEwgZNC-KyE"
   ]
  },
  {
   "cell_type": "markdown",
   "metadata": {},
   "source": [
    "### Famous Topics:\n",
    "\n",
    "1. Data types and Uses.\n",
    "2. List Comprehensions.\n",
    "3. Pattern Printing.\n",
    "4. Basics of OOPs\n"
   ]
  },
  {
   "cell_type": "code",
   "execution_count": null,
   "metadata": {},
   "outputs": [],
   "source": []
  },
  {
   "cell_type": "code",
   "execution_count": 3,
   "metadata": {},
   "outputs": [],
   "source": [
    "import time"
   ]
  },
  {
   "cell_type": "code",
   "execution_count": 15,
   "metadata": {},
   "outputs": [
    {
     "name": "stdout",
     "output_type": "stream",
     "text": [
      "15\n",
      "A\n",
      "BB\n",
      "CCC\n",
      "DDDD\n",
      "EEEEE\n",
      "FFFFFF\n",
      "GGGGGGG\n",
      "HHHHHHHH\n",
      "IIIIIIIII\n",
      "JJJJJJJJJJ\n",
      "KKKKKKKKKKK\n",
      "LLLLLLLLLLLL\n",
      "MMMMMMMMMMMMM\n",
      "NNNNNNNNNNNNNN\n",
      "OOOOOOOOOOOOOOO\n",
      "Time taken for execution:  0.009993314743041992\n"
     ]
    }
   ],
   "source": [
    "# Sample Input :\n",
    "# 7\n",
    "# Sample Output :\n",
    "# A\n",
    "# BB\n",
    "# CCC\n",
    "# DDDD\n",
    "# EEEEE\n",
    "# FFFFFF\n",
    "# GGGGGGG\n",
    "\n",
    "\n",
    "\n",
    "n=int(input())\n",
    "t1=time.time()\n",
    "for i in range(1,n+1):\n",
    "    print(chr(64+i)*i)\n",
    "t2=time.time()\n",
    "print(\"Time taken for execution: \",t2-t1)"
   ]
  },
  {
   "cell_type": "markdown",
   "metadata": {},
   "source": [
    "- Better and efficient code than below one.\n",
    "- Time complexity = O(n)\n",
    "- as only one statement in the for loop is getting executed n times.\n",
    "- As the n value will increase there will be a lot of difference in the time."
   ]
  },
  {
   "cell_type": "code",
   "execution_count": 16,
   "metadata": {},
   "outputs": [
    {
     "name": "stdout",
     "output_type": "stream",
     "text": [
      "15\n",
      "A\n",
      "BB\n",
      "CCC\n",
      "DDDD\n",
      "EEEEE\n",
      "FFFFFF\n",
      "GGGGGGG\n",
      "HHHHHHHH\n",
      "IIIIIIIII\n",
      "JJJJJJJJJJ\n",
      "KKKKKKKKKKK\n",
      "LLLLLLLLLLLL\n",
      "MMMMMMMMMMMMM\n",
      "NNNNNNNNNNNNNN\n",
      "OOOOOOOOOOOOOOO\n",
      "Time taken for Execution: 0.022243738174438477\n"
     ]
    }
   ],
   "source": [
    "\n",
    "n=int(input())\n",
    "t1=time.time()\n",
    "x=64\n",
    "for i in range(1,n+1):\n",
    "    for j in range(i):\n",
    "        print(chr(x+i),end='')\n",
    "    print()\n",
    "t2=time.time()\n",
    "print(\"Time taken for Execution:\", t2-t1)"
   ]
  },
  {
   "cell_type": "code",
   "execution_count": 20,
   "metadata": {},
   "outputs": [
    {
     "name": "stdout",
     "output_type": "stream",
     "text": [
      "0\n",
      "1\n",
      "1\n",
      "2\n",
      "3\n",
      "5\n",
      "8\n",
      "13\n",
      "21\n",
      "34\n"
     ]
    }
   ],
   "source": [
    "### Fibonacci Series\n",
    "\n",
    "def fib(n):\n",
    "    a=0\n",
    "    b=1\n",
    "    for i in range(n):\n",
    "        print(a)\n",
    "        a,b=b,a+b\n",
    "\n",
    "fib(10)    "
   ]
  },
  {
   "cell_type": "code",
   "execution_count": 36,
   "metadata": {},
   "outputs": [
    {
     "name": "stdout",
     "output_type": "stream",
     "text": [
      "    * \n",
      "   * * \n",
      "  * * * \n",
      " * * * * \n",
      "* * * * * \n"
     ]
    }
   ],
   "source": [
    "#### Star pyramid::\n",
    "\n",
    "def star(n):\n",
    "    for i in range(n):\n",
    "        for j in range(n-i-1):\n",
    "            print(end=\" \")\n",
    "        for j in range(0,i+1):\n",
    "            print('*',end=\" \")\n",
    "        print()\n",
    "            \n",
    "star(5)\n",
    "## Remember the algorithm:\n",
    "\n",
    "\n"
   ]
  },
  {
   "cell_type": "markdown",
   "metadata": {},
   "source": [
    "## Algorithm:\n",
    "\n",
    "- For spaces[j=0 to n-i-1]\n",
    "- for star[ j=0 to i+1 and end=' ']\n",
    "\n",
    "__ __ __ __ * \n",
    "\n",
    "__ __ __  * __ *\n",
    "\n",
    "__ __ * __ * __ *\n",
    "\n",
    "__ * __ * __ * __ *    \n",
    "\n",
    "The center spaces between two stars are responsible because of end=' ' in the second loop.\n",
    "\n",
    "and the upper triangle is the doing of first loop.\n",
    "\n",
    "1. **FIRST LOOP:**\n",
    "\n",
    "for j in range(0,n-i-1):\n",
    "\n",
    "when i=0 --> j=0,1,2,3 [4 spaces in first row]    {remember i=rows, j= columns}\n",
    "\n",
    "when i = 1 --> j = 0,1,2 [3 spaces in second row]\n",
    "\n",
    "when i = 2 --> j = 0,1 and so on.......\n",
    "\n",
    "\n",
    "2. **SECOND LOOP:**\n",
    "\n",
    "for j in range(0,i+1):\n",
    "\n",
    "here cursor is already at the first position of the star.\n",
    "so one star is printed.\n",
    "as \n",
    "j=0 means this loop will run only one time.\n",
    "\n",
    "when i = 1 --> j = 0,1\n",
    "\n",
    "this loop will run two times.\n",
    "\n",
    "* space *   ---> space here is present due to end=\" \".\n",
    "\n",
    "and goes on like that.\n",
    "\n",
    "Also there is no need to care about what is happening on the right side of triangle.\n",
    "or even after first star in a specific row.**"
   ]
  },
  {
   "cell_type": "markdown",
   "metadata": {},
   "source": [
    "### let's try this pattern now:\n",
    "\n",
    "_ _ _ * _ _ _\n",
    "\n",
    "_ _ * * * _ _\n",
    "\n",
    "_ * * * * * _ ..... and so on.\n",
    "\n",
    "\n",
    "\n",
    "\n",
    "\n",
    "\n"
   ]
  },
  {
   "cell_type": "code",
   "execution_count": 39,
   "metadata": {},
   "outputs": [
    {
     "name": "stdout",
     "output_type": "stream",
     "text": [
      "    *\n",
      "   ***\n",
      "  *****\n",
      " *******\n",
      "*********\n"
     ]
    }
   ],
   "source": [
    "def pyramid(n):\n",
    "    for i in range(n):\n",
    "        for j in range(n-i-1):\n",
    "            print(end=\" \")\n",
    "        for j in range(0,2*i+1):\n",
    "            print(\"*\",end=\"\")\n",
    "        print()\n",
    "pyramid(5)"
   ]
  },
  {
   "cell_type": "markdown",
   "metadata": {},
   "source": [
    "### Algorithm:\n",
    "\n",
    "- It is quite simple actually....\n",
    "1. we need to delete the space which is occuring due to end in second loop.\n",
    "2. And second is executing (2n+1) times w.r.t n.\n",
    "3. So just change the range of second loop will do the trick. "
   ]
  },
  {
   "cell_type": "markdown",
   "metadata": {},
   "source": [
    "### Introductory task in CS50!!\n",
    "\n",
    "**Mario pattern**\n"
   ]
  },
  {
   "cell_type": "code",
   "execution_count": 4,
   "metadata": {},
   "outputs": [
    {
     "name": "stdout",
     "output_type": "stream",
     "text": [
      "5\n",
      "     #\n",
      "\n",
      "    ##\n",
      "\n",
      "   ###\n",
      "\n",
      "  ####\n",
      "\n",
      " #####\n",
      "\n"
     ]
    }
   ],
   "source": [
    "## REQUIRED OUTPUT:\n",
    "\n",
    "    #\n",
    "   ##\n",
    "  ###\n",
    " ####\n",
    "#####\n",
    "\n",
    "n = int(input())\n",
    "\n",
    "for i in range(n):\n",
    "    for j in range(n-i):\n",
    "        print(end=\" \")\n",
    "    for _ in range(i+1):\n",
    "        print(\"#\",end=\"\")\n",
    "    print()"
   ]
  },
  {
   "cell_type": "code",
   "execution_count": null,
   "metadata": {},
   "outputs": [],
   "source": []
  }
 ],
 "metadata": {
  "kernelspec": {
   "display_name": "Python 3",
   "language": "python",
   "name": "python3"
  },
  "language_info": {
   "codemirror_mode": {
    "name": "ipython",
    "version": 3
   },
   "file_extension": ".py",
   "mimetype": "text/x-python",
   "name": "python",
   "nbconvert_exporter": "python",
   "pygments_lexer": "ipython3",
   "version": "3.7.3"
  }
 },
 "nbformat": 4,
 "nbformat_minor": 2
}
