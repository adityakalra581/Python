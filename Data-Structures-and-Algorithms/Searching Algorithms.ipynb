{
 "cells": [
  {
   "cell_type": "markdown",
   "metadata": {},
   "source": [
    "## Linear Search Algorithm\n",
    "\n",
    "In computer science, a linear search or sequential search is a method for finding an element within a list. It sequentially checks each element of the list until a match is found or the whole list has been searched. \n",
    "\n",
    "\n",
    "Worst complexity: O(n)\n",
    "\n",
    "Average complexity: O(n)\n",
    "\n",
    "Space complexity: O(1)\n"
   ]
  },
  {
   "cell_type": "markdown",
   "metadata": {},
   "source": [
    "![](Linear-Search.png)"
   ]
  },
  {
   "cell_type": "code",
   "execution_count": 11,
   "metadata": {},
   "outputs": [
    {
     "name": "stdout",
     "output_type": "stream",
     "text": [
      "The Original Array : [12, 34, 56, 78, 90, 10]\n",
      "Element 66 is found : False\n"
     ]
    }
   ],
   "source": [
    "def linearsearch(T,key):\n",
    "    \n",
    "    i=0               \n",
    "    # This is the iterator.\n",
    "    # initialising it from zero\n",
    "    \n",
    "    \n",
    "    found=False\n",
    "    # here 'found is like an indicator\n",
    "    # it is important for stopping the loop\n",
    "    # we can use anything insted of it.\n",
    "    # Here this variable will turn true when the key is found in the array.\n",
    "    \n",
    "    \n",
    "    \n",
    "    \n",
    "    while i<len(T) and not found:\n",
    "        # i=0 is < len(t) and \n",
    "        # not found means if found = False this loop will run else it will not\n",
    "        # here 'and' is used means both condition is neccessary\n",
    "        \n",
    "        if T[i] == key:\n",
    "            # Checking for the key.\n",
    "            \n",
    "            found=True\n",
    "            # our indicator turns true when the value is found.\n",
    "            \n",
    "        else:\n",
    "            i+=1\n",
    "            # else loop will continue to run until i exceed len(T)\n",
    "            \n",
    "    return found\n",
    "\n",
    "\n",
    "T=[12,34,56,78,90,10]\n",
    "print(\"The Original Array :\",T)\n",
    "position=linearsearch(T,66)\n",
    "# using another variable for calling the function we made \n",
    "# in order to call it. \n",
    "print(\"Element 66 is found :\",position)\n",
    "\n",
    "# We can do this as well to reduce the number of lines.\n",
    "\n",
    "# print(\"Element 66 is found :\",linearsearch(T,66))\n",
    "# here no need to make another variable and one line less is used.\n",
    "\n",
    "\n",
    "\n",
    "\n",
    "\n",
    "    "
   ]
  },
  {
   "cell_type": "markdown",
   "metadata": {},
   "source": [
    "### Recursion\n",
    "\n",
    "Recursion is the process which comes into existence when a function calls a copy of itself to work on a smaller problem. Any function which calls itself is called recursive function, and such function calls are called recursive calls.\n",
    "\n"
   ]
  },
  {
   "cell_type": "code",
   "execution_count": 17,
   "metadata": {},
   "outputs": [
    {
     "name": "stdout",
     "output_type": "stream",
     "text": [
      "The factorial of 10 is : 3628800\n"
     ]
    }
   ],
   "source": [
    "# 1. Factorial using recursion\n",
    "\n",
    "def fact(n):\n",
    "    if n==0:\n",
    "        return 1\n",
    "    \n",
    "    \n",
    "    return n*fact(n-1)\n",
    "\n",
    "print(\"The factorial of 10 is :\",fact(10))\n",
    "\n",
    "\n"
   ]
  },
  {
   "cell_type": "markdown",
   "metadata": {},
   "source": [
    "### Binary Search Algorithm\n",
    "\n",
    "In computer science, binary search, also known as $half-interval search$, $logarithmic search$, or $binary chop$, is a search algorithm that finds the position of a target value within a sorted array. Binary search compares the target value to the middle element of the array. \n",
    "\n",
    "**Worst complexity**: O(log n)\n",
    "\n",
    "**Average complexity**: O(log n)\n",
    "\n",
    "**Best complexity**: O(1)\n",
    "\n",
    "**Space complexity**: O(1)\n",
    "\n",
    "**Data structure**: Array"
   ]
  },
  {
   "cell_type": "markdown",
   "metadata": {},
   "source": [
    "![](Binary-Search.png)"
   ]
  },
  {
   "cell_type": "code",
   "execution_count": 20,
   "metadata": {},
   "outputs": [
    {
     "name": "stdout",
     "output_type": "stream",
     "text": [
      "The Original Array is : [78, 56, 45, 87, 79, 12, 31, 64]\n",
      "The Sorted Array is: [12, 31, 45, 56, 64, 78, 79, 87]\n",
      "The key 64 is in the list : True\n"
     ]
    }
   ],
   "source": [
    "def binarysearch(T,key):\n",
    "    # this is two way searching for a key in a sorted array.\n",
    "    # here we need three things to find a key\n",
    "    # low,high,mid(self explanatory)\n",
    "    \n",
    "    low=0\n",
    "    high=len(T)-1\n",
    "    \n",
    "    \n",
    "    # as soon as low>high process stops and key is declared as not found or false in this case.\n",
    "    while low<=high:\n",
    "        mid=(low + high)//2\n",
    "        if key==T[mid]:\n",
    "            return True\n",
    "        elif key<T[mid]:\n",
    "            # if key is less than the mid value means key lies left to the mid value\n",
    "            # clearly the right side of mid value is useless\n",
    "            # so there is no need of high marker to be at the last element\n",
    "            \n",
    "            high=mid-1\n",
    "            # therefore high is moved to mid -1\n",
    "            # in the left side of the array.\n",
    "            \n",
    "        else: # this case covers the possibility of key > mid\n",
    "            low=mid+1\n",
    "            # if key is greater than the mid value means key lies right to the mid value\n",
    "            # clearly the left side of mid value is useless\n",
    "            # so there is no need of low marker to be at the first element        \n",
    "    return False\n",
    "# if all the cases couldn't find the key and low mark crosses high mark the key is declared to be not found.\n",
    "\n",
    "T=[78,56,45,87,79,12,31,64]\n",
    "\n",
    "print(\"The Original Array is :\",T)\n",
    "T.sort()\n",
    "# V.IMP = the array must be sorted \n",
    "# else the binary search won't work.\n",
    "\n",
    "print(\"The Sorted Array is:\",T)\n",
    "print(\"The key 64 is in the list :\",binarysearch(T,87))\n",
    "            "
   ]
  },
  {
   "cell_type": "markdown",
   "metadata": {},
   "source": [
    "### Binary Search Using Recursion"
   ]
  },
  {
   "cell_type": "code",
   "execution_count": 28,
   "metadata": {},
   "outputs": [
    {
     "name": "stdout",
     "output_type": "stream",
     "text": [
      "Original Array [12, 23.31, 45, 56, 78]\n",
      "The Sorted Array [12, 23.31, 45, 56, 78]\n",
      "56 is present in the array:  True\n"
     ]
    }
   ],
   "source": [
    "def binarysearch(T,key,low,high):\n",
    "    if low>high:\n",
    "        return False\n",
    "    else:\n",
    "        mid=(low+high)//2\n",
    "        if key==T[mid]:\n",
    "            return True\n",
    "        elif key<T[mid]:\n",
    "            return binarysearch(T,key,low,mid-1)\n",
    "        else:\n",
    "            return binarysearch(T,key,mid+1,high)\n",
    "        \n",
    "T=[12,23.31,45,56,78]\n",
    "print(\"Original Array\",T)\n",
    "T.sort()\n",
    "print(\"The Sorted Array\",T)\n",
    "print(\"56 is present in the array: \",binarysearch(T,56,0,5))\n",
    "        \n",
    "        \n",
    "        \n",
    "        "
   ]
  },
  {
   "cell_type": "code",
   "execution_count": null,
   "metadata": {},
   "outputs": [],
   "source": []
  }
 ],
 "metadata": {
  "kernelspec": {
   "display_name": "Python 3",
   "language": "python",
   "name": "python3"
  },
  "language_info": {
   "codemirror_mode": {
    "name": "ipython",
    "version": 3
   },
   "file_extension": ".py",
   "mimetype": "text/x-python",
   "name": "python",
   "nbconvert_exporter": "python",
   "pygments_lexer": "ipython3",
   "version": "3.7.3"
  }
 },
 "nbformat": 4,
 "nbformat_minor": 2
}
