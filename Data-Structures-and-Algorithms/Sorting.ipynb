{
 "cells": [
  {
   "cell_type": "markdown",
   "metadata": {},
   "source": [
    "### Selection sort()\n",
    "\n",
    "In computer science, selection sort is a sorting algorithm, specifically an in-place comparison sort. It has O time complexity, making it inefficient on large lists, and generally performs worse than the similar insertion sort. \n",
    "\n",
    "**Worst complexity**: n^2\n",
    "\n",
    "**Average complexity**: n^2\n",
    "\n",
    "**Best complexity**: n^2\n",
    "\n",
    "**Space complexity**: 1\n",
    "\n",
    "**Method**: Selection\n",
    "\n",
    "**Stable**: No\n",
    "\n",
    "**Class**: Comparison sort"
   ]
  },
  {
   "cell_type": "code",
   "execution_count": 1,
   "metadata": {},
   "outputs": [
    {
     "name": "stdout",
     "output_type": "stream",
     "text": [
      "[45, 85, 62, 11, 13]\n",
      "[11, 13, 45, 62, 85]\n"
     ]
    }
   ],
   "source": [
    "def sorting(a):\n",
    "    for i in range(len(a)-1,0,-1):\n",
    "        max_pos=0\n",
    "        \n",
    "        for j in range(1,i+1):\n",
    "            if a[j]>a[max_pos]:\n",
    "                max_pos=j\n",
    "                \n",
    "        temp=a[max_pos]\n",
    "        a[max_pos]=a[i]\n",
    "        a[i]=temp\n",
    "        \n",
    "a=[45,85,62,11,13]\n",
    "print(a)\n",
    "sorting(a)\n",
    "print(a)\n",
    "            \n",
    "         \n"
   ]
  },
  {
   "cell_type": "markdown",
   "metadata": {},
   "source": [
    "### Bubble sort\n",
    "\n",
    "Bubble sort, sometimes referred to as sinking sort, is a simple sorting algorithm that repeatedly steps through the list, **compares adjacent elements and swaps them if they are in the wrong order**. The pass through the list is repeated until the list is sorted. \n",
    "\n",
    "**Worst complexity**: n^2\n",
    "\n",
    "**Average complexity**: n^2\n",
    "\n",
    "**Best complexity**: n\n",
    "\n",
    "**Space complexity**: 1\n",
    "\n",
    "**Method: Exchanging**\n",
    "\n",
    "**Stable**: Yes\n",
    "\n",
    "**Class**: Comparison sort"
   ]
  },
  {
   "cell_type": "code",
   "execution_count": 18,
   "metadata": {},
   "outputs": [
    {
     "name": "stdout",
     "output_type": "stream",
     "text": [
      "[12, 45, 23, 90, 900]\n",
      "[12, 23, 45, 90, 900]\n"
     ]
    }
   ],
   "source": [
    "def bubble(l):\n",
    "    #l=[12,45,23,90,900]\n",
    "    #print(l)\n",
    "    n=len(l)\n",
    "    for i in range(n-1):\n",
    "        #print(i)\n",
    "        for j in range(n-i-1):\n",
    "            #print(\"__________________________\")\n",
    "            #print(j)\n",
    "            if l[j]>l[j+1]:\n",
    "                l[j],l[j+1]=l[j+1],l[j]\n",
    "      \n",
    "    print(l)\n",
    "\n",
    "l=[12,45,23,90,900]\n",
    "bubble(l)"
   ]
  },
  {
   "cell_type": "markdown",
   "metadata": {},
   "source": [
    "### Insertion Sort\n",
    "\n",
    "Insertion sort is a simple sorting algorithm that builds the final sorted array one item at a time. It is much **less efficient on large lists** than more advanced algorithms such as quicksort, heapsort, or merge sort. \n",
    "\n",
    "**Worst complexity**: n^2\n",
    "\n",
    "**Average complexity**: n^2\n",
    "\n",
    "**Best complexity**: n\n",
    "\n",
    "**Space complexity**: 1\n",
    "\n",
    "**Method**: Insertion\n",
    "\n",
    "**Stable**: Yes\n",
    "\n",
    "**Class**: Comparison sort"
   ]
  },
  {
   "cell_type": "code",
   "execution_count": 20,
   "metadata": {},
   "outputs": [
    {
     "name": "stdout",
     "output_type": "stream",
     "text": [
      "[123, 4, 5, 890, 12, 34]\n",
      "[4, 5, 12, 34, 123, 890]\n"
     ]
    }
   ],
   "source": [
    "def insertion(l):\n",
    "    n=len(l)\n",
    "    for i in range(n-1):\n",
    "        for j in range(n-i-1):\n",
    "            if l[j]>l[j+1]:\n",
    "                l[j],l[j+1]=l[j+1],l[j]\n",
    "    print(l)\n",
    "    \n",
    "l=[123,4,5,890,12,34]\n",
    "print(l)\n",
    "insertion(l)"
   ]
  },
  {
   "cell_type": "markdown",
   "metadata": {},
   "source": [
    "### Merge Sort:\n",
    "\n",
    "Merge Sort is a Divide and Conquer algorithm. It divides input array in two halves, calls itself for the two halves and then merges the two sorted halves. The merge() function is used for merging two halves. "
   ]
  },
  {
   "cell_type": "markdown",
   "metadata": {},
   "source": [
    "![](Merge-Sort.png)"
   ]
  },
  {
   "cell_type": "markdown",
   "metadata": {},
   "source": [
    "Time complexity of Merge Sort is $\\Theta$ **(nLogn)** in all 3 cases (worst, average and best) as merge sort always\n",
    "\n",
    "divides the array into two halves and take linear time to merge two halves.\n",
    "\n",
    "**Auxiliary Space**: O(n)\n",
    "\n",
    "**Algorithmic Paradigm**: Divide and Conquer\n",
    "\n",
    "**Sorting In Place**: No in a typical implementation\n",
    "\n",
    "**Stable**: Yes"
   ]
  },
  {
   "cell_type": "code",
   "execution_count": 22,
   "metadata": {},
   "outputs": [
    {
     "name": "stdout",
     "output_type": "stream",
     "text": [
      "original array [45, 12, 78, 77, 40, 89, 76, 54, 123, 90, 453, 78]\n",
      "Sorted Array [12, 40, 45, 54, 76, 77, 78, 78, 89, 90, 123, 453]\n"
     ]
    }
   ],
   "source": [
    "# Code\n",
    "\n",
    "def merging(T):\n",
    "    if len(T)>1:   \n",
    "        # Array length should be greater than 1 for sorting to be done.\n",
    "        mid=len(T)//2      \n",
    "        # Mid point will provided with this. \n",
    "        # For len(T)=odd the division of arrays will be different\n",
    "        \n",
    "        # Dividing the array into two parts.\n",
    "        # Left array contains the elements from 1st to mid point.(Imp: Mid point is in the left list)\n",
    "        L=T[:mid]\n",
    "        \n",
    "        # Right array contains the elements from (mid+1) element to last element in the array.\n",
    "        R=T[mid:]\n",
    "        \n",
    "        merging(L)\n",
    "        merging(R)\n",
    "        \n",
    "        \n",
    "        \n",
    "        i=0\n",
    "        j=0\n",
    "        k=0\n",
    "        \n",
    "        # This loop will sort the array.\n",
    "        while i< len(L) and j<len(R):\n",
    "            # i=0 is less than left array length\n",
    "            # 'and' j=0 is also less than right array length.\n",
    "            \n",
    "            \n",
    "            if L[i]<R[j]:\n",
    "            # Checking Which of the first element from both array is smallest.    \n",
    "                \n",
    "                T[k]=L[i]\n",
    "                # The smallest element will be inserted in the final array.\n",
    "                \n",
    "                i+=1 #(Incrementing i)\n",
    "            else:\n",
    "                T[k]=R[j]\n",
    "                j+=1\n",
    "            k+=1    \n",
    "            \n",
    "            \n",
    "        # Now we have to check whether there is any elemnt ledt in the two lists    \n",
    "        while i<len(L):\n",
    "            # if i is greater than len(L) means there are some elements left in the list \n",
    "            T[k]=L[i]\n",
    "            # Simply add them to the resultant list and it will be sorted.\n",
    "            i+=1\n",
    "            k+=1\n",
    "            \n",
    "        while j<len(R):\n",
    "             # if j is greater than len(R) means there are some elements left in the list \n",
    "            T[k]=R[j]\n",
    "            # Simply add them to the resultant list and it will be sorted.\n",
    "            j+=1\n",
    "            k+=1\n",
    "    \n",
    "        \n",
    "        \n",
    "\n",
    "T=[45,12,78,77,40,89,76,54,123,90,453,78]\n",
    "print(\"original array\",T)\n",
    "merging(T)\n",
    "print(\"Sorted Array\",T)\n",
    "\n",
    "\n",
    "        \n",
    "        \n",
    "        \n",
    "        "
   ]
  },
  {
   "cell_type": "markdown",
   "metadata": {},
   "source": [
    "### Quick Sort\n",
    "\n",
    "Quicksort is an efficient sorting algorithm, serving as a systematic method for placing the elements of a random access \n",
    "\n",
    "file or an array in order.It is  a commonly used algorithm for sorting.\n",
    "\n",
    "Worst complexity: n^2\n",
    "\n",
    "Average complexity: n*log(n)\n",
    "\n",
    "Best complexity: n*log(n)\n",
    "\n",
    "Method: Partitioning\n",
    "\n",
    "Stable: No\n",
    "\n",
    "Class: Comparison sort"
   ]
  },
  {
   "cell_type": "code",
   "execution_count": 29,
   "metadata": {},
   "outputs": [
    {
     "name": "stdout",
     "output_type": "stream",
     "text": [
      "Original Array [75, 54, 12, 96, 45, 1]\n",
      "Sorted Array:  [1, 12, 45, 54, 75, 96]\n"
     ]
    }
   ],
   "source": [
    "# For Quick sort we need 3 things\n",
    "# 1. low(generally 0)\n",
    "# 2. high(len(array)-1)\n",
    "# 3. pivot (We have taken it as the last element in the array.)\n",
    "# Quicksort algorithm works on the partition principle.\n",
    "\n",
    "#     [Original Array] = [partition 1]+[pivot element]+[partition 2]\n",
    "# here partition 1 < pivot and partition 2 elements > pivot element\n",
    "\n",
    "\n",
    "\n",
    "\n",
    "\n",
    "def quicksort(T,low,high):\n",
    "    if low<high:\n",
    "        p=partition(T,low,high)\n",
    "        # Here partition is a function which is described below.\n",
    "        \n",
    "        quicksort(T,low,p-1)\n",
    "        quicksort(T,p+1,high)\n",
    "        \n",
    "def partition(T,low,high):\n",
    "    i=low-1\n",
    "    # i begins from -1 position which is invalid.\n",
    "    \n",
    "    \n",
    "    pivot=T[high]\n",
    "    # setting pivot at last element of T\n",
    "    \n",
    "    for j in range(low,high):\n",
    "        if T[j]<=pivot:\n",
    "            # checking if T[0-n] is smaller than pivot element then swapping will take place.\n",
    "            # If not, j will be incremented till it find smaller value than pivot.\n",
    "            i=i+1\n",
    "            # now i is in valid index 0\n",
    "            # SO swapping will take place between T[j] and T[i]\n",
    "            # as we know T[j] is smaller than pivot it is coming to the left side of the array.\n",
    "            # Which is our goal.\n",
    "            \n",
    "            T[j],T[i]=T[i],T[j]\n",
    "    T[i+1],T[high]=T[high],T[i+1]\n",
    "    return i+1\n",
    "            \n",
    "T=[75,54,12,96,45,1]\n",
    "print(\"Original Array\",T)\n",
    "quicksort(T,0,len(T)-1)\n",
    "print(\"Sorted Array: \",T)\n",
    "            \n",
    "            \n",
    "            \n",
    "            \n",
    "            "
   ]
  },
  {
   "cell_type": "code",
   "execution_count": null,
   "metadata": {},
   "outputs": [],
   "source": []
  }
 ],
 "metadata": {
  "kernelspec": {
   "display_name": "Python 3",
   "language": "python",
   "name": "python3"
  },
  "language_info": {
   "codemirror_mode": {
    "name": "ipython",
    "version": 3
   },
   "file_extension": ".py",
   "mimetype": "text/x-python",
   "name": "python",
   "nbconvert_exporter": "python",
   "pygments_lexer": "ipython3",
   "version": "3.7.3"
  }
 },
 "nbformat": 4,
 "nbformat_minor": 2
}
