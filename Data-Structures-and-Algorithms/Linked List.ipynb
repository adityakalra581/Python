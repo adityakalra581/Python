{
 "cells": [
  {
   "cell_type": "markdown",
   "metadata": {},
   "source": [
    "## LINKEDLIST\n",
    "\n",
    "\n",
    "- A **linked list** is a linear data structure where each element is a separate object.\n",
    "\n",
    "- Each element (we will call it a $node$) of a list is comprising of two items - **the data and a reference to the next node**.\n",
    "\n",
    "- The last node has a reference to $null$. The entry point into a linked list is called the **head** of the list."
   ]
  },
  {
   "cell_type": "markdown",
   "metadata": {},
   "source": [
    "![](images/ll.png)"
   ]
  },
  {
   "cell_type": "markdown",
   "metadata": {},
   "source": [
    "![](images/types-of-linked-list.png)"
   ]
  },
  {
   "cell_type": "markdown",
   "metadata": {},
   "source": [
    "## Why Linked List is Important!\n",
    "\n",
    "![](images/performancell.png)"
   ]
  },
  {
   "cell_type": "markdown",
   "metadata": {},
   "source": [
    "### Creation of Linked List:\n",
    "\n",
    "#### 1. Append"
   ]
  },
  {
   "cell_type": "markdown",
   "metadata": {},
   "source": [
    "![](images/linked-list-append.jpeg)"
   ]
  },
  {
   "cell_type": "markdown",
   "metadata": {},
   "source": [
    "### Implementation of Append and Display of a Linked List."
   ]
  },
  {
   "cell_type": "code",
   "execution_count": 12,
   "metadata": {},
   "outputs": [
    {
     "name": "stdout",
     "output_type": "stream",
     "text": [
      "Printing Linked List using Self indside the Class \n",
      "1-->2-->3-->4-->None\n",
      "\n",
      "Printing Linked List using head Outside the Class:\n",
      "1-->2-->3-->4-->None\n"
     ]
    }
   ],
   "source": [
    "class Element(object):\n",
    "    def __init__(self,value):\n",
    "        self.value=value\n",
    "        self.next=None\n",
    "        \n",
    "class LinkedList(object):\n",
    "    def __init__(self,head=None):\n",
    "        self.head=head\n",
    "    \n",
    "    \n",
    "    ## Inserting at the last: Like a regular list. \n",
    "    def append(self,new_element):\n",
    "        current = self.head\n",
    "        if self.head:\n",
    "            while current.next:\n",
    "                current = current.next\n",
    "            current.next = new_element\n",
    "        else:\n",
    "            self.head = new_element\n",
    "    \n",
    "    ## Displaying the linked list\n",
    "    def display(self):\n",
    "        temp=self.head\n",
    "        while temp:\n",
    "            print(temp.value,end='-->')\n",
    "            temp=temp.next\n",
    "            \n",
    "def show(head):\n",
    "    while head:\n",
    "        print(head.value,end='-->')\n",
    "        head = head.next\n",
    "                \n",
    "\n",
    "e1 = Element(1)\n",
    "e2 = Element(2)\n",
    "e3 = Element(3)\n",
    "e4 = Element(4)\n",
    "\n",
    "# Start setting up a LinkedList\n",
    "ll = LinkedList(e1)\n",
    "ll.append(e2)\n",
    "ll.append(e3)\n",
    "ll.append(e4)\n",
    "print(\"Printing Linked List using Self indside the Class \")\n",
    "print(ll.display())\n",
    "\n",
    "\n",
    "print()\n",
    "## Another way of printing the linked list:\n",
    "print(\"Printing Linked List using head Outside the Class:\")\n",
    "print(show(ll.head))"
   ]
  },
  {
   "cell_type": "markdown",
   "metadata": {},
   "source": [
    "### Inserting a New Node at the Any position:"
   ]
  },
  {
   "cell_type": "markdown",
   "metadata": {},
   "source": [
    "![](images/ll-insert.jpeg)"
   ]
  },
  {
   "cell_type": "markdown",
   "metadata": {},
   "source": [
    "### Algorithm:\n",
    "\n",
    "- Reach at Position - 1 (That is just before you want to insert the node)\n",
    "\n",
    "- new_element.next is assigned to current.next, that means the value that current.next holds will be assigned to \n",
    "    new_element.next.\n",
    "    \n",
    "- New value of current.next is new_element.\n",
    "\n"
   ]
  },
  {
   "cell_type": "code",
   "execution_count": 52,
   "metadata": {},
   "outputs": [
    {
     "name": "stdout",
     "output_type": "stream",
     "text": [
      "1-->\n",
      "2-->1-->\n",
      "3-->2-->1-->\n",
      "3-->2-->4-->1-->\n",
      "3-->2-->4-->5-->1-->\n",
      "\n",
      "Let's Add First that means we are adding the new node at the first poistion.\n",
      "6-->3-->2-->4-->5-->1-->\n"
     ]
    }
   ],
   "source": [
    "class Element(object):\n",
    "    def __init__(self,value):\n",
    "        self.value=value\n",
    "        self.next=None\n",
    "        \n",
    "class LinkedList(object):\n",
    "    def __init__(self,head):\n",
    "        self.head=head\n",
    "        \n",
    "    \n",
    "    ## Insering a new node in any position:\n",
    "    \n",
    "    def insert(self,new_element,position):\n",
    "        c = 0\n",
    "        current = self.head\n",
    "        if position>1:\n",
    "            while current and c<position:\n",
    "                ## Here Action is done. One step before the actual position. \n",
    "                if c==position - 1: ## That means we find the position where we have to insert the Node\n",
    "                    new_element.next=current.next\n",
    "                    current.next = new_element\n",
    "                ## Increamenting the process if not completed.    \n",
    "                current = current.next\n",
    "                c+=1\n",
    "        elif position==1:\n",
    "            new_element.next = self.head\n",
    "            self.head = new_element\n",
    "    \n",
    "    def addfirst(self,new_element):\n",
    "        current = self.head\n",
    "        new_element.next = self.head\n",
    "        self.head = new_element\n",
    "    \n",
    "def display(head):\n",
    "    while head:\n",
    "        print(head.value,end=\"-->\")\n",
    "        head=head.next\n",
    "\n",
    "e1 = Element(1)\n",
    "e2 = Element(2)\n",
    "e3 = Element(3)\n",
    "e4 = Element(4)\n",
    "e5 = Element(5)\n",
    "e6 = Element(6)\n",
    "ll = LinkedList(e1)\n",
    "\n",
    "\n",
    "display(ll.head)\n",
    "print()\n",
    "\n",
    "## 1-->\n",
    "\n",
    "\n",
    "ll.insert(e2,1)\n",
    "display(ll.head)\n",
    "print()\n",
    "\n",
    "## 2-->1-->\n",
    "\n",
    "ll.insert(e3,1)\n",
    "display(ll.head)\n",
    "print()\n",
    "\n",
    "## 3-->2-->1\n",
    "\n",
    "ll.insert(e4,2)\n",
    "display(ll.head)\n",
    "print()\n",
    "\n",
    "## 3-->2-->4-->1-->\n",
    "\n",
    "ll.insert(e5,3)\n",
    "display(ll.head)\n",
    "print()        \n",
    "        \n",
    "## 3-->2-->4-->5-->1-->        \n",
    "print()        \n",
    "print(\"Let's Add First that means we are adding the new node at the first poistion.\")\n",
    "\n",
    "ll.addfirst(e6)\n",
    "display(ll.head)\n",
    "print()\n",
    "\n",
    "# 6-->3-->2-->4-->5-->1-->"
   ]
  },
  {
   "cell_type": "code",
   "execution_count": null,
   "metadata": {},
   "outputs": [],
   "source": []
  },
  {
   "cell_type": "code",
   "execution_count": null,
   "metadata": {},
   "outputs": [],
   "source": []
  },
  {
   "cell_type": "code",
   "execution_count": null,
   "metadata": {},
   "outputs": [],
   "source": []
  },
  {
   "cell_type": "code",
   "execution_count": null,
   "metadata": {},
   "outputs": [],
   "source": []
  },
  {
   "cell_type": "code",
   "execution_count": null,
   "metadata": {},
   "outputs": [],
   "source": []
  },
  {
   "cell_type": "code",
   "execution_count": null,
   "metadata": {},
   "outputs": [],
   "source": []
  },
  {
   "cell_type": "code",
   "execution_count": 21,
   "metadata": {},
   "outputs": [
    {
     "name": "stdout",
     "output_type": "stream",
     "text": [
      "120-->20-->30-->90-->\n"
     ]
    }
   ],
   "source": [
    "class LinkedList:\n",
    "    class Node:\n",
    "        __slots__='element','next'\n",
    "        \n",
    "        # This is the only function that will be used under class 'Node'.\n",
    "        # All the others are under class : LinkedList.\n",
    "        def __init__(self,element,next):\n",
    "            self.element=element\n",
    "            self.next=next\n",
    "    \n",
    "    def __init__(self):\n",
    "        self.head=None\n",
    "        self.tail=None\n",
    "        self.size=0\n",
    "    \n",
    "    \n",
    "    def __len__(self):\n",
    "        return self.size\n",
    "    \n",
    "    def is_empty(self):\n",
    "        #print(\"The List is Empty :\")\n",
    "        return self.size==0\n",
    "    \n",
    "      # Function for adding an element at the Top/beginning of linked list.\n",
    "    def addfirst(self,e):\n",
    "        new=self.Node(e,None)\n",
    "        if self.is_empty():\n",
    "            self.head=new\n",
    "            self.tail=new\n",
    "        else:\n",
    "            new.next=self.head\n",
    "        self.head=new\n",
    "        self.size +=1\n",
    "    \n",
    "    def addlast(self,e):\n",
    "        new=self.Node(e,None)\n",
    "        if self.is_empty():\n",
    "            self.head=new\n",
    "            self.tail=new\n",
    "        else:\n",
    "            self.tail.next=new.next\n",
    "        self.tail = new\n",
    "        self.size  += 1\n",
    "    def addany(self,e,pos):\n",
    "        new=self.Node(e,None)\n",
    "        temp=self.head\n",
    "        i=1\n",
    "        while i<pos:\n",
    "            self.temp=temp.next\n",
    "            i+=1\n",
    "        new.next=temp.next\n",
    "        temp.next=new\n",
    "        self.size +=1    \n",
    "    \n",
    "    \n",
    "    def display(self):\n",
    "        temp=self.head\n",
    "        while temp:\n",
    "            print(temp.element,end='-->')\n",
    "            temp=temp.next\n",
    "        print()\n",
    "        \n",
    "        \n",
    "        \n",
    "        \n",
    "L=LinkedList()\n",
    "#L.addlast(10)\n",
    "L.addfirst(90)\n",
    "#L.display()\n",
    "L.addfirst(20)\n",
    "#L.display()\n",
    "L.addany(30,1)\n",
    "#L.display()\n",
    "L.addfirst(120)\n",
    "L.display()\n",
    "  "
   ]
  },
  {
   "cell_type": "markdown",
   "metadata": {},
   "source": [
    "### Deleting a node from linked list:\n",
    "\n",
    "1. Using a value\n",
    "\n",
    "2. Using the Position"
   ]
  },
  {
   "cell_type": "markdown",
   "metadata": {},
   "source": [
    "![](images/Singly-Linked-List-delete.jpg)"
   ]
  },
  {
   "cell_type": "code",
   "execution_count": 22,
   "metadata": {},
   "outputs": [
    {
     "data": {
      "text/plain": [
       "<__main__.LinkedList.Node at 0x293875b6c50>"
      ]
     },
     "execution_count": 22,
     "metadata": {},
     "output_type": "execute_result"
    }
   ],
   "source": [
    "### 2. Using a position:\n",
    "\n",
    "\n",
    "\n",
    "def delete_node(head,position):\n",
    "    c = 0\n",
    "    current = head\n",
    "    pre = None\n",
    "    if position == 0:\n",
    "        head = current.next\n",
    "    else:\n",
    "        while c < position:\n",
    "            pre = current\n",
    "            current = current.next\n",
    "            c += 1\n",
    "            if c == position:\n",
    "                if pre:\n",
    "                    pre.next = current.next\n",
    "                    \n",
    "    return head\n",
    "\n",
    "delete_node(L.head,2)\n",
    "\n",
    "\n",
    "## As we are passing head of linked list directly there is no need of self.head.\n",
    "\n",
    "## Here Logic is:\n",
    "\n",
    "# cursor(head) is at first node \n",
    "# we will increment it until our counter is equal to the position mentioned for deletion.\n",
    "# once counter(c) and position matches:\n",
    "# previous element next is connected to the current element next like shown in image above.\n",
    "\n",
    "\n"
   ]
  },
  {
   "cell_type": "code",
   "execution_count": 23,
   "metadata": {},
   "outputs": [
    {
     "name": "stdout",
     "output_type": "stream",
     "text": [
      "120-->20-->90-->\n"
     ]
    }
   ],
   "source": [
    "L.display()"
   ]
  },
  {
   "cell_type": "markdown",
   "metadata": {},
   "source": [
    "- Succesfully deleted the 1st index value..\n",
    "\n"
   ]
  },
  {
   "cell_type": "code",
   "execution_count": 26,
   "metadata": {},
   "outputs": [],
   "source": [
    "# ## 2. deleting a node using a value:\n",
    "\n",
    "# def delete_node_value(head,value):\n",
    "#     c=1\n",
    "#     current = head\n",
    "#     prev = None\n",
    "#     while current.next != value :\n",
    "#         pre = current\n",
    "#         current = current.next\n",
    "#         if current.value == value:\n",
    "#             pre.next = current.next\n",
    "#     return head        \n",
    "    \n",
    "# delete_node_value(L.head,20)\n",
    "    \n",
    "\n",
    "\n"
   ]
  },
  {
   "cell_type": "markdown",
   "metadata": {},
   "source": [
    "## Reversing a Linked List...\n",
    "\n",
    "![](images/reverse-linked-list.png)\n",
    "\n",
    "Credits for the image: [Geeks for Geeks](https://www.geeksforgeeks.org/reverse-a-list-in-groups-of-given-size/)"
   ]
  },
  {
   "cell_type": "code",
   "execution_count": 14,
   "metadata": {},
   "outputs": [
    {
     "name": "stdout",
     "output_type": "stream",
     "text": [
      "5\n",
      "6\n",
      "5\n",
      "4\n",
      "3\n",
      "2\n",
      "2-->3-->4-->5-->6-->\n"
     ]
    }
   ],
   "source": [
    "class SinglyLinkedListNode:\n",
    "    def __init__(self, node_data):\n",
    "        self.data = node_data\n",
    "        self.next = None\n",
    "\n",
    "class SinglyLinkedList:\n",
    "    def __init__(self):\n",
    "        self.head = None\n",
    "        self.tail = None\n",
    "\n",
    "    def insert_node(self, node_data):\n",
    "        node = SinglyLinkedListNode(node_data)\n",
    "\n",
    "        if not self.head:\n",
    "            self.head = node\n",
    "        else:\n",
    "            self.tail.next = node\n",
    "        self.tail = node\n",
    "def display(node):\n",
    "    while node:\n",
    "        print(node.data,end='-->')\n",
    "        node=node.next\n",
    "    print()\n",
    "        \n",
    "def reverse(head):\n",
    "    prev = None\n",
    "    cur = head\n",
    "    while cur:\n",
    "        temp = cur.next\n",
    "        cur.next = prev\n",
    "        prev = cur\n",
    "        cur = temp\n",
    "    head = prev\n",
    "    return head   \n",
    "\n",
    "\n",
    "if __name__ == '__main__':\n",
    "    llist_count = int(input())\n",
    "    llist = SinglyLinkedList()\n",
    "    for _ in range(llist_count):\n",
    "            llist_item = int(input())\n",
    "            llist.insert_node(llist_item)\n",
    "            \n",
    "           \n",
    "\n",
    "    llist1 = reverse(llist.head)\n",
    "    display(llist1)\n",
    "    \n",
    "        \n",
    "\n"
   ]
  },
  {
   "cell_type": "code",
   "execution_count": null,
   "metadata": {},
   "outputs": [],
   "source": []
  },
  {
   "cell_type": "markdown",
   "metadata": {},
   "source": [
    "### Reversing a Linked List Using Recursion:"
   ]
  },
  {
   "cell_type": "markdown",
   "metadata": {},
   "source": [
    "### [Explanation](https://www.hackerrank.com/challenges/print-the-elements-of-a-linked-list-in-reverse/forum/comments/107520):\n",
    "\n",
    "We have a linked list of three elements [1] -> [2] -> [3] Let's begin by calling the head.\n",
    "\n",
    "- A. RevPr(1)\n",
    "    if elemenent 1 is not yet null, move on.\n",
    "    It's not null! Call again on next, element 2...\n",
    "\n",
    "- B. RevPr(2)\n",
    "    if elemenent 2 is not yet null, move on.\n",
    "    It's not null! Call again on next, element\n",
    "   \n",
    "- C.  RevPr(3)\n",
    "    if elemenent 3 is not yet null,\n",
    "    move on. It's not null! Call again\n",
    "    on next, element 4...\n",
    "\n",
    "- D. RevPr(4)\n",
    "    if elemenent 4 is not yet null, move on. \n",
    "    Wait, it is null! No more calls, we're done.\n",
    "\n",
    "- D. RevPr4. That most recent call failed the\n",
    "    condition. Nothing is printed.\n",
    "    -->[RevPr1(RevPr2(RevPr3()))]\n",
    "\n",
    "- C. RevPr3. RevPr3 never finished the code in\n",
    "    the if statement, so now we print 3!\n",
    "    -->3\n",
    "    -->[RevPr1(RevPr2())]\n",
    "- B. RevPr2. Now we need to print 2!\n",
    "    -->3\n",
    "    -->2\n",
    "    -->[RevPr1()]\n",
    "- A. RevPr1. The last call! Print 1! This call is done, and\n",
    "    now everything is done.\n",
    "\n",
    "\n",
    "-->3\n",
    "-->2\n",
    "-->1"
   ]
  },
  {
   "cell_type": "code",
   "execution_count": 13,
   "metadata": {},
   "outputs": [
    {
     "name": "stdout",
     "output_type": "stream",
     "text": [
      "5\n",
      "5\n",
      "4\n",
      "3\n",
      "2\n",
      "1\n",
      "1\n",
      "2\n",
      "3\n",
      "4\n",
      "5\n"
     ]
    }
   ],
   "source": [
    "class SinglyLinkedListNode:\n",
    "    def __init__(self, node_data):\n",
    "        self.data = node_data\n",
    "        self.next = None\n",
    "\n",
    "class SinglyLinkedList:\n",
    "    def __init__(self):\n",
    "        self.head = None\n",
    "        self.tail = None\n",
    "\n",
    "    def insert_node(self, node_data):\n",
    "        node = SinglyLinkedListNode(node_data)\n",
    "        if not self.head:\n",
    "            self.head = node\n",
    "        else:\n",
    "            self.tail.next = node\n",
    "        self.tail = node\n",
    "          \n",
    "\n",
    "def reverseRecursion(head):\n",
    "    if head != None:\n",
    "        reverseRecursion(head.next)\n",
    "        print(head.data)\n",
    "\n",
    "if __name__ == '__main__':\n",
    "    llist_count = int(input())\n",
    "    llist = SinglyLinkedList()\n",
    "    for _ in range(llist_count):\n",
    "            llist_item = int(input())\n",
    "            llist.insert_node(llist_item)\n",
    "            \n",
    "    \n",
    "    reverseRecursion(llist.head)\n",
    "        \n",
    "\n"
   ]
  },
  {
   "cell_type": "code",
   "execution_count": null,
   "metadata": {},
   "outputs": [],
   "source": []
  }
 ],
 "metadata": {
  "kernelspec": {
   "display_name": "Python 3",
   "language": "python",
   "name": "python3"
  },
  "language_info": {
   "codemirror_mode": {
    "name": "ipython",
    "version": 3
   },
   "file_extension": ".py",
   "mimetype": "text/x-python",
   "name": "python",
   "nbconvert_exporter": "python",
   "pygments_lexer": "ipython3",
   "version": "3.7.3"
  }
 },
 "nbformat": 4,
 "nbformat_minor": 2
}
