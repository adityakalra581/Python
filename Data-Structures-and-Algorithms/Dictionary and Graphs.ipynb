{
 "cells": [
  {
   "cell_type": "markdown",
   "metadata": {},
   "source": [
    "# DICTIONARY:\n",
    "\n",
    "A dictionary is a collection which is **unordered**, **changeable** and **indexed**. In Python dictionaries are written with curly brackets, and they have keys and values.\n",
    "\n",
    "\n",
    "\n",
    "\n",
    "## Creating a dictionary!"
   ]
  },
  {
   "cell_type": "code",
   "execution_count": 16,
   "metadata": {},
   "outputs": [
    {
     "name": "stdout",
     "output_type": "stream",
     "text": [
      "{'key1': 'value1', 'key2': 'value2', 'key3': 'value3'}\n",
      "<class 'dict'>\n"
     ]
    }
   ],
   "source": [
    "dict1={'key1':'value1','key2':'value2','key3':'value3'}\n",
    "print(dict1)\n",
    "print(type(dict1))"
   ]
  },
  {
   "cell_type": "code",
   "execution_count": 7,
   "metadata": {},
   "outputs": [
    {
     "name": "stdout",
     "output_type": "stream",
     "text": [
      "{1: 'a', 2: 'b', 3: 'c'}\n",
      "<class 'dict'>\n"
     ]
    }
   ],
   "source": [
    "dict2={1:'a',2:'b',3:'c'}\n",
    "print(dict2)\n",
    "print(type(dict2))"
   ]
  },
  {
   "cell_type": "markdown",
   "metadata": {},
   "source": [
    "### Creating a dictionary using a constructor!"
   ]
  },
  {
   "cell_type": "code",
   "execution_count": 14,
   "metadata": {},
   "outputs": [
    {
     "name": "stdout",
     "output_type": "stream",
     "text": [
      "{1: 'one', 2: 'two', 3: 'apple', 4: 'mango'}\n",
      "<class 'dict'>\n"
     ]
    }
   ],
   "source": [
    "d=dict()\n",
    "d[1]='one'\n",
    "d[2]='two'\n",
    "d[3]='apple'\n",
    "d[4]='mango'\n",
    "print(d)\n",
    "print(type(d))"
   ]
  },
  {
   "cell_type": "markdown",
   "metadata": {},
   "source": [
    "## Accesing the Elements using key!"
   ]
  },
  {
   "cell_type": "code",
   "execution_count": 18,
   "metadata": {},
   "outputs": [
    {
     "name": "stdout",
     "output_type": "stream",
     "text": [
      "d[1]: one\n",
      "d[3]: apple\n"
     ]
    }
   ],
   "source": [
    "d={1: 'one', 2: 'two', 3: 'apple', 4: 'mango'}\n",
    "print(\"d[1]:\",d[1])\n",
    "print(\"d[3]:\",d[3])\n"
   ]
  },
  {
   "cell_type": "markdown",
   "metadata": {},
   "source": [
    "## Traversing The dictionary!"
   ]
  },
  {
   "cell_type": "code",
   "execution_count": 20,
   "metadata": {},
   "outputs": [
    {
     "name": "stdout",
     "output_type": "stream",
     "text": [
      "key1 : value1\n",
      "key2 : value2\n",
      "key3 : value3\n"
     ]
    }
   ],
   "source": [
    "dict1={'key1':'value1','key2':'value2','key3':'value3'}\n",
    "for i in dict1:\n",
    "    \n",
    "    # Here i = keys\n",
    "    # : = seperator b/w key and values.\n",
    "    # dict1[i]=values\n",
    "    print(i,':',dict1[i])"
   ]
  },
  {
   "cell_type": "markdown",
   "metadata": {},
   "source": [
    "### WAP to input student name and specialization of few students: "
   ]
  },
  {
   "cell_type": "code",
   "execution_count": 1,
   "metadata": {},
   "outputs": [
    {
     "name": "stdout",
     "output_type": "stream",
     "text": [
      "Enter the total number of students: 5\n",
      "Enter the name of the studentADITYA\n",
      "Enter the specializationECE\n",
      "Enter the name of the studentJAIDEEP\n",
      "Enter the specializationIT\n",
      "Enter the name of the studentTANISH\n",
      "Enter the specializationCSE\n",
      "Enter the name of the studentSURYA\n",
      "Enter the specializationCE\n",
      "Enter the name of the studentGAGAN\n",
      "Enter the specializationEEE\n",
      "{'ADITYA': 'ECE', 'JAIDEEP': 'IT', 'TANISH': 'CSE', 'SURYA': 'CE', 'GAGAN': 'EEE'}\n",
      "**************************************\n",
      "Students: \t Course:\n",
      "ADITYA \t\t ECE\n",
      "JAIDEEP \t\t IT\n",
      "TANISH \t\t CSE\n",
      "SURYA \t\t CE\n",
      "GAGAN \t\t EEE\n"
     ]
    }
   ],
   "source": [
    "college=dict()\n",
    "n=int(input(\"Enter the total number of students: \"))\n",
    "for i in range(n):\n",
    "    a=input(\"Enter the name of the student\")\n",
    "    b=input(\"Enter the specialization\")\n",
    "    college[a]=b\n",
    "print(college)   \n",
    "\n",
    "print(\"**************************************\")\n",
    "\n",
    "print(\"Students:\",'\\t','Course:')\n",
    "\n",
    "for j in college:\n",
    "    print(j,'\\t\\t',college[j])"
   ]
  },
  {
   "cell_type": "markdown",
   "metadata": {},
   "source": [
    "### Updating a dictionary!"
   ]
  },
  {
   "cell_type": "code",
   "execution_count": 7,
   "metadata": {},
   "outputs": [
    {
     "name": "stdout",
     "output_type": "stream",
     "text": [
      "{'ADITYA': 21, 'JAIDEEP': 19, 'TANISH': 34, 'SURYA': 22, 'GAGAN': 23}\n",
      "\n",
      "_______________________________________________________________________________________________\n",
      "\n",
      "Updated dictionary: {'ADITYA': 21, 'JAIDEEP': 19, 'TANISH': 34, 'SURYA': 22, 'GAGAN': 23, 'AMAN': 89}\n"
     ]
    }
   ],
   "source": [
    "T={'ADITYA': 21, 'JAIDEEP': 19, 'TANISH': 20, 'SURYA': 22, 'GAGAN': 23}\n",
    "\n",
    "# Updating the value using key.\n",
    "T['TANISH']=34\n",
    "print(T)\n",
    "print()\n",
    "print(\"_______________________________________________________________________________________________\")\n",
    "## Also we can add a key:value pair in this fashion\n",
    "print()\n",
    "T['AMAN']=89\n",
    "print('Updated dictionary:',T)"
   ]
  },
  {
   "cell_type": "markdown",
   "metadata": {},
   "source": [
    "### Merging Two Dictionary!\n",
    "\n",
    "**USING UPDATE**\n"
   ]
  },
  {
   "cell_type": "code",
   "execution_count": 13,
   "metadata": {},
   "outputs": [
    {
     "name": "stdout",
     "output_type": "stream",
     "text": [
      "{'ADITYA': 21, 'JAIDEEP': 19, 'TANISH': 34, 'SURYA': 22, 'GAGAN': 23, 'ADI': 'g', 'JAI': 'r', 'TANI': 'b', 'SUR': 'f', 'GAGO': 'c'}\n",
      "\n",
      "___________________________________________________\n",
      "\n",
      "{'ADI': 'g', 'JAI': 'r', 'TANI': 'b', 'SUR': 'f', 'GAGO': 'c'}\n"
     ]
    }
   ],
   "source": [
    "d1={'ADITYA': 21, 'JAIDEEP': 19, 'TANISH': 34, 'SURYA': 22, 'GAGAN': 23}\n",
    "d2={'ADI': 'g', 'JAI': 'r', 'TANI': 'b', 'SUR': 'f', 'GAGO': 'c'}\n",
    "\n",
    "# You can also use d2.update(d1)\n",
    "\n",
    "d1.update(d2)\n",
    "\n",
    "# d1 is updated\n",
    "# d1=d1+d2\n",
    "print(d1)\n",
    "print()\n",
    "\n",
    "# d2 is as it is.\n",
    "print(\"___________________________________________________\")\n",
    "print()\n",
    "print(d2)"
   ]
  },
  {
   "cell_type": "markdown",
   "metadata": {},
   "source": [
    "### Deleting an element\n",
    "\n",
    "1.) Using $del$\n",
    "\n",
    "2.) Using $pop$"
   ]
  },
  {
   "cell_type": "code",
   "execution_count": 19,
   "metadata": {},
   "outputs": [
    {
     "name": "stdout",
     "output_type": "stream",
     "text": [
      "{'ADITYA': 21, 'JAIDEEP': 19, 'TANISH': 34, 'SURYA': 22, 'GAGAN': 23, 'ADI': 'g', 'JAI': 'r', 'TANI': 'b', 'GAGO': 'c'}\n",
      "{'ADITYA': 21, 'JAIDEEP': 19, 'TANISH': 34, 'SURYA': 22, 'GAGAN': 23, 'ADI': 'g', 'JAI': 'r', 'GAGO': 'c'}\n",
      "{'ADITYA': 21, 'JAIDEEP': 19, 'TANISH': 34, 'SURYA': 22, 'GAGAN': 23, 'ADI': 'g', 'GAGO': 'c'}\n",
      "{'ADITYA': 21, 'JAIDEEP': 19, 'TANISH': 34, 'SURYA': 22, 'GAGAN': 23, 'ADI': 'g'}\n"
     ]
    }
   ],
   "source": [
    "a={'ADITYA': 21, 'JAIDEEP': 19, 'TANISH': 34, 'SURYA': 22, 'GAGAN': 23, 'ADI': 'g', 'JAI': 'r', 'TANI': 'b', 'SUR': 'f', 'GAGO': 'c'}\n",
    "\n",
    "# Syntax\n",
    "# del dictinary_name['Key']\n",
    "\n",
    "del a['SUR']\n",
    "print(a)\n",
    "\n",
    "del a['TANI']\n",
    "print(a)\n",
    "\n",
    "\n",
    "# Using pop\n",
    "# Syntax:\n",
    "# dict_name.pop('Key')\n",
    "\n",
    "\n",
    "\n",
    "a.pop('JAI')\n",
    "print(a)\n",
    "\n",
    "a.pop('GAGO')\n",
    "print(a)"
   ]
  },
  {
   "cell_type": "markdown",
   "metadata": {},
   "source": [
    "### in and not in  relationship!"
   ]
  },
  {
   "cell_type": "code",
   "execution_count": 30,
   "metadata": {},
   "outputs": [
    {
     "name": "stdout",
     "output_type": "stream",
     "text": [
      "Does y has waka in it:  True\n",
      "\n",
      "Does y has jaii in it:  False\n",
      "\n",
      "Does y have value 'tere' in it :  False\n",
      "\n",
      "Does y has wak not in it:  True\n",
      "\n",
      "Does y has jai not in it:  False\n"
     ]
    }
   ],
   "source": [
    "y={'jai':'ho','oh':'hoo','waka':'waka','ishare':'tere'}\n",
    "\n",
    "\n",
    "## in it method:\n",
    "\n",
    "# simple method to find whether the dictionary contains the specified key or not\n",
    "print(\"Does y has waka in it: \",'waka' in y)\n",
    "print()\n",
    "print(\"Does y has jaii in it: \",'jaii' in y)\n",
    "print()\n",
    "# effort to check a value:\n",
    "\n",
    "print(\"Does y have value 'tere' in it : \",'tere' in y)\n",
    "print()\n",
    "# clearly this method doesn't let us know about the value of a key.\n",
    "\n",
    "# Using not in:\n",
    "\n",
    "\n",
    "print(\"Does y has wak not in it: \",'wak' not in y)\n",
    "print()\n",
    "print(\"Does y has jai not in it: \",'jai' not in y)\n",
    "\n"
   ]
  },
  {
   "cell_type": "markdown",
   "metadata": {},
   "source": [
    "## Basic Functions in dictionary!\n",
    "\n",
    "1.) **len()** : for getting length.\n",
    "\n",
    "2.) **clear()**: deletes the dictionary\n",
    "\n",
    "3.) **get()**: provides the key. if key is not present it can get us a message.\n",
    "\n",
    "4.) **items()**: provides everything present in dictionary.(Though different than print())\n",
    "\n",
    "5.) **keys()**: provides all the keys.\n",
    "\n",
    "6.) **values()**: Only command to get the values."
   ]
  },
  {
   "cell_type": "code",
   "execution_count": 56,
   "metadata": {},
   "outputs": [
    {
     "name": "stdout",
     "output_type": "stream",
     "text": [
      "{'king': 'Akbar', 'Queen': 'Jhansi', 'minister': 'Birbal', 'warrior': 'Ashok'}\n",
      "\n",
      "**************************************\n",
      "The length of the dictionary is ;  4\n",
      "\n",
      "**************************************\n",
      "Akbar\n",
      "\n",
      "nope\n",
      "\n",
      "**************************************\n",
      "The items in the dictionary are:  dict_items([('king', 'Akbar'), ('Queen', 'Jhansi'), ('minister', 'Birbal'), ('warrior', 'Ashok')])\n",
      "\n",
      "**************************************\n",
      "\n",
      "All the keys in the dictionary are :  dict_keys(['king', 'Queen', 'minister', 'warrior'])\n",
      "\n",
      "***************************************\n",
      "\n",
      "All the values in the dictionary are:  dict_values(['Akbar', 'Jhansi', 'Birbal', 'Ashok'])\n",
      "\n",
      "_______________**___________________**___________________**\n",
      "\n",
      "THE END\n"
     ]
    }
   ],
   "source": [
    "tst={'king':'Akbar','Queen':'Jhansi','minister':'Birbal','warrior':'Ashok'}\n",
    "\n",
    "#len count a pair as one.\n",
    "print(tst)\n",
    "print()\n",
    "print('**************************************')\n",
    "print(\"The length of the dictionary is ; \",len(tst))\n",
    "print()\n",
    "print('**************************************')\n",
    "\n",
    "# clear()\n",
    "# uncomment for deleting the dictionary made\n",
    "#tst.clear()\n",
    "#print(tst)\n",
    "\n",
    "# dict.get('key_name','message if key note present in dict')\n",
    "\n",
    "print(tst.get('king','nope'))\n",
    "print()\n",
    "print(tst.get('raja','nope'))\n",
    "print()\n",
    "print('**************************************')\n",
    "\n",
    "\n",
    "# dict.items()\n",
    "# return all the items in a different manner.\n",
    "print(\"The items in the dictionary are: \",tst.items())\n",
    "print()\n",
    "print('**************************************')\n",
    "\n",
    "\n",
    "# dict.keys()\n",
    "print()\n",
    "print(\"All the keys in the dictionary are : \",tst.keys())\n",
    "print()\n",
    "print('***************************************')\n",
    "\n",
    "\n",
    "\n",
    "# dict.values()\n",
    "\n",
    "print()\n",
    "print(\"All the values in the dictionary are: \",tst.values())\n",
    "print()\n",
    "print('_______________**___________________**___________________**')\n",
    "print()\n",
    "print(\"THE END\")"
   ]
  },
  {
   "cell_type": "markdown",
   "metadata": {},
   "source": [
    "### GRAPHS\n",
    "\n",
    "In computer science, a graph is an abstract data type that is meant to implement the undirected graph and directed graph concepts from the field of graph theory within mathematics.\n",
    "\n",
    "**Reference**: https://www.geeksforgeeks.org/graph-data-structure-and-algorithms/\n"
   ]
  },
  {
   "cell_type": "markdown",
   "metadata": {},
   "source": [
    "![](images/graphs.png)"
   ]
  },
  {
   "cell_type": "markdown",
   "metadata": {},
   "source": [
    "### Adjacency Matrix for a directed graph."
   ]
  },
  {
   "cell_type": "markdown",
   "metadata": {},
   "source": [
    "![](images/adjacency-matrix.png)"
   ]
  },
  {
   "cell_type": "markdown",
   "metadata": {},
   "source": [
    "![](images/ajacency-list.jpg)"
   ]
  },
  {
   "cell_type": "markdown",
   "metadata": {},
   "source": [
    "![](images/graphs.png)"
   ]
  },
  {
   "cell_type": "code",
   "execution_count": 8,
   "metadata": {},
   "outputs": [],
   "source": [
    "nodes = [\"A\",\"B\",\"C\",\"D\",\"E\"]\n",
    "# Also known as vertices.\n",
    "\n",
    "edges = [(\"A\",\"B\"),(\"A\",\"C\"),(\"B\",\"D\"),(\"B\",\"E\"),(\"A\",\"D\"),(\"C\",\"D\"),(\"D\",\"E\")]\n",
    "# This can be understand as a connection between two nodes."
   ]
  },
  {
   "cell_type": "markdown",
   "metadata": {},
   "source": [
    "## Adjacency List Implementation\n",
    "\n",
    "**According to the above diagram**\n",
    "\n",
    "- This implementation is for basic Undirected small graph with weightless edges, as there are way more complicated graphs than this."
   ]
  },
  {
   "cell_type": "code",
   "execution_count": 13,
   "metadata": {},
   "outputs": [],
   "source": [
    "class Graph:\n",
    "    def __init__(self,Nodes):\n",
    "        self.nodes = Nodes\n",
    "        self.adj_list = {}      ## Adjacency list is a dictionary as it contains nodes and edges\n",
    "        \n",
    "        for node in self.nodes:\n",
    "            self.adj_list[node] = []\n",
    "            \n",
    "    def insert_edge(self,u,v):\n",
    "        self.adj_list[u].append(v)\n",
    "        self.adj_list[v].append(u)\n",
    "        \n",
    "## A degree of a node is the number of edges connected to it.\n",
    "## For example degree of \"D\" in our example is 4.\n",
    "    def degree(self,node):\n",
    "        print(f\"Degree of {node} is:\",len(self.adj_list[node]))\n",
    "    \n",
    "    def display(self):\n",
    "        for node in self.nodes:\n",
    "            print(node,'-->',self.adj_list[node])"
   ]
  },
  {
   "cell_type": "code",
   "execution_count": 14,
   "metadata": {},
   "outputs": [
    {
     "name": "stdout",
     "output_type": "stream",
     "text": [
      "A --> ['B', 'C', 'D']\n",
      "B --> ['A', 'D', 'E']\n",
      "C --> ['A', 'D']\n",
      "D --> ['B', 'A', 'C', 'E']\n",
      "E --> ['B', 'D']\n",
      "\n",
      "Degree of A is: 3\n"
     ]
    }
   ],
   "source": [
    "nodes = [\"A\",\"B\",\"C\",\"D\",\"E\"]\n",
    "graph = Graph(nodes)\n",
    "# graph.display()\n",
    "\n",
    "for u,v in edges:\n",
    "    graph.insert_edge(u,v)\n",
    "    \n",
    "\n",
    "graph.display()\n",
    "print()\n",
    "graph.degree(\"A\")"
   ]
  },
  {
   "cell_type": "code",
   "execution_count": null,
   "metadata": {},
   "outputs": [],
   "source": []
  }
 ],
 "metadata": {
  "kernelspec": {
   "display_name": "Python 3",
   "language": "python",
   "name": "python3"
  },
  "language_info": {
   "codemirror_mode": {
    "name": "ipython",
    "version": 3
   },
   "file_extension": ".py",
   "mimetype": "text/x-python",
   "name": "python",
   "nbconvert_exporter": "python",
   "pygments_lexer": "ipython3",
   "version": "3.7.3"
  }
 },
 "nbformat": 4,
 "nbformat_minor": 2
}
