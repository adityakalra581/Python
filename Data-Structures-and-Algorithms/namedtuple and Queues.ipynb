{
 "cells": [
  {
   "cell_type": "markdown",
   "metadata": {},
   "source": [
    "### Named tuple()\n",
    "\n",
    "- Python supports a type of container like dictionaries called “namedtuples()” present in module, “collection“. \n",
    "\n",
    "- Like dictionaries they contain keys that are hashed to a particular value. \n",
    "\n",
    "- But on contrary, it supports both access from key value and iteration, **the functionality that dictionaries lack.**"
   ]
  },
  {
   "cell_type": "markdown",
   "metadata": {},
   "source": [
    "### Why to use namedtuple()\n",
    "- Namedtuple makes your tuples self-document.\n",
    "- You can easily understand what is going on by having a quick glance at your code.\n",
    "- And as you are not bound to use integer indexes to access members of a tuple, it makes it more easy to maintain your code.\n",
    "- Moreover, as namedtuple instances do not have per-instance dictionaries, they are lightweight and require no more memory than regular tuples.\n",
    "- *This makes them faster than dictionaries.*"
   ]
  },
  {
   "cell_type": "markdown",
   "metadata": {},
   "source": [
    "### The functionality increases \n",
    "- Accessibility is possible in three ways.\n"
   ]
  },
  {
   "cell_type": "code",
   "execution_count": 18,
   "metadata": {},
   "outputs": [
    {
     "name": "stdout",
     "output_type": "stream",
     "text": [
      "The name of car a is : Ford\n",
      "The model of car a is : a1\n",
      "The color of car a is : black\n"
     ]
    }
   ],
   "source": [
    "import collections\n",
    "Cars=collections.namedtuple('Cars',['name','model','color'])\n",
    "a=Cars('Ford','a1','black')\n",
    "#print(Cars)\n",
    "\n",
    "# Accesing by index\n",
    "print(\"The name of car a is :\",a[0])\n",
    "\n",
    "# Accessing by keys.\n",
    "print(\"The model of car a is :\",a.model)\n",
    "\n",
    "# Accessing by getattr()\n",
    "print(\"The color of car a is :\",getattr(a,'color'))"
   ]
  },
  {
   "cell_type": "markdown",
   "metadata": {},
   "source": [
    "### More functions:\n",
    "-  ._make()\n",
    "-  ._replace()\n",
    "-  ._fields\n",
    "-  ._asdict()\n",
    "-  **"
   ]
  },
  {
   "cell_type": "code",
   "execution_count": 36,
   "metadata": {},
   "outputs": [
    {
     "name": "stdout",
     "output_type": "stream",
     "text": [
      "Cars(name='Honda', model='ax', color='mattice')\n",
      "Cars(name='Ford', model='sx', color='black')\n",
      "<class '__main__.Cars'>\n",
      "('name', 'model', 'color')\n",
      "OrderedDict([('name', 'Ford'), ('model', 'a1'), ('color', 'black')])\n",
      "Cars(name='MG', model='bigm', color='crimson red')\n"
     ]
    }
   ],
   "source": [
    "h=['Honda','ax','mattice']\n",
    "\n",
    "# In order to add entries in a namedtuple()\n",
    "print(Cars._make(h))\n",
    "\n",
    "#  ._replace cannot be done to a list\n",
    "#  it can only be done a namedtuple dedicated tuple.\n",
    "print(a._replace(model='sx'))\n",
    "print(type(a))\n",
    "\n",
    "# ._fields give the keys in the named tuples.\n",
    "print(a._fields)\n",
    "\n",
    "# Conversion into a ordered dictionary.\n",
    "print(a._asdict())\n",
    "\n",
    "# Dictionary converted into a named tuple.\n",
    "s={'name':'MG','model':'bigm','color':'crimson red'}\n",
    "print(Cars(**s))"
   ]
  },
  {
   "cell_type": "markdown",
   "metadata": {},
   "source": [
    "### References:\n",
    "- https://www.geeksforgeeks.org/namedtuple-in-python/\n",
    "- https://pythontips.com/2015/06/06/why-should-you-use-namedtuple-instead-of-a-tuple/"
   ]
  },
  {
   "cell_type": "markdown",
   "metadata": {},
   "source": [
    "### Queues\n",
    "\n",
    "- The First in First out Data Structure."
   ]
  },
  {
   "cell_type": "markdown",
   "metadata": {},
   "source": [
    "![](images/fifo.png)\n",
    "\n",
    "Credits : [Wikipedia](https://en.wikipedia.org/wiki/Queue_(abstract_data_type))"
   ]
  },
  {
   "cell_type": "markdown",
   "metadata": {},
   "source": [
    "#### Performance:\n",
    "\n",
    "- **Algorithm**: Average\n",
    "\n",
    "- **Insert**: O(1)\n",
    "\n",
    "- **Delete**: O(1)\n",
    "\n",
    "- **Space**: O(n)\n",
    "\n",
    "- **Search**: O(n)"
   ]
  },
  {
   "cell_type": "markdown",
   "metadata": {},
   "source": [
    "### Implementing Queues using List."
   ]
  },
  {
   "cell_type": "code",
   "execution_count": 3,
   "metadata": {},
   "outputs": [
    {
     "name": "stdout",
     "output_type": "stream",
     "text": [
      "Initial Queue \n",
      " [10, 9, 12, 19]\n",
      "Queue after first deletion \n",
      " [9, 12, 19]\n",
      "Queue after Second deletion \n",
      " [12, 19]\n"
     ]
    }
   ],
   "source": [
    "q = []\n",
    "\n",
    "q.append(10)\n",
    "q.append(9)\n",
    "q.append(12)\n",
    "q.append(19)\n",
    "print(\"Initial Queue\",'\\n',q)\n",
    "\n",
    "\n",
    "## Deleting elements from the left\n",
    "q.pop(0)\n",
    "print(\"Queue after first deletion\",'\\n',q)\n",
    "\n",
    "## Deleting the first element\n",
    "q.pop(0)\n",
    "print(\"Queue after Second deletion\",'\\n',q)"
   ]
  },
  {
   "cell_type": "markdown",
   "metadata": {},
   "source": [
    "### Implementation using  class."
   ]
  },
  {
   "cell_type": "code",
   "execution_count": 15,
   "metadata": {},
   "outputs": [
    {
     "name": "stdout",
     "output_type": "stream",
     "text": [
      "The First element of the queue:\n",
      "1\n",
      "\n",
      "The whole Queue:\n",
      "[1, 10, 15, 20]\n",
      "\n",
      "Remaining Queue after Dequeue operation:\n",
      "[10, 15, 20]\n",
      "\n",
      "The First element of the queue:\n",
      "10\n"
     ]
    }
   ],
   "source": [
    "class Queue:\n",
    "    def __init__(self,head=None):\n",
    "        self.storage = [head]         ## Initiating as a list.\n",
    "    \n",
    "    def Enqueue(self,value):\n",
    "        self.storage.append(value)\n",
    "    \n",
    "    def Dequeue(self):\n",
    "        self.storage.pop(0)\n",
    "        \n",
    "    def seefirst(self):\n",
    "        return self.storage[0]\n",
    "    \n",
    "    def display(self):\n",
    "        return self.storage\n",
    "        \n",
    "\n",
    "q = Queue(1)\n",
    "\n",
    "q.Enqueue(10)\n",
    "q.Enqueue(15)\n",
    "q.Enqueue(20)\n",
    "\n",
    "print(\"The First element of the queue:\")\n",
    "print(q.seefirst())\n",
    "\n",
    "print()\n",
    "\n",
    "print(\"The whole Queue:\")\n",
    "print(q.display())\n",
    "\n",
    "print()\n",
    "\n",
    "## Let's dequeue\n",
    "q.Dequeue()\n",
    "\n",
    "# Let's see the Queue now:\n",
    "print(\"Remaining Queue after Dequeue operation:\")\n",
    "print(q.display())\n",
    "\n",
    "print()\n",
    "print(\"The First element of the queue:\")\n",
    "print(q.seefirst())\n",
    "        \n",
    "    \n",
    "    \n",
    "    \n",
    "    "
   ]
  },
  {
   "cell_type": "markdown",
   "metadata": {},
   "source": [
    "### Implementation of Queues without using Class:"
   ]
  },
  {
   "cell_type": "code",
   "execution_count": 25,
   "metadata": {},
   "outputs": [
    {
     "name": "stdout",
     "output_type": "stream",
     "text": [
      "Queue after three appends: deque([10, 20, 30])\n",
      "\n",
      "Queue after first dequeue operation: deque([20, 30])\n"
     ]
    }
   ],
   "source": [
    "from collections import deque\n",
    "\n",
    "q = deque()\n",
    "\n",
    "q.append(10)\n",
    "q.append(20)\n",
    "q.append(30)\n",
    "\n",
    "## Returning the Whole Queue.\n",
    "print(\"Queue after three appends:\",q)\n",
    "\n",
    "\n",
    "print()\n",
    "## Let's remove the first element entered.\n",
    "## Remember : only using pop will delete the element from the back.\n",
    "\n",
    "q.popleft()\n",
    "print(\"Queue after first dequeue operation:\",q)\n",
    "\n",
    "\n",
    "\n"
   ]
  },
  {
   "cell_type": "code",
   "execution_count": null,
   "metadata": {},
   "outputs": [],
   "source": []
  }
 ],
 "metadata": {
  "kernelspec": {
   "display_name": "Python 3",
   "language": "python",
   "name": "python3"
  },
  "language_info": {
   "codemirror_mode": {
    "name": "ipython",
    "version": 3
   },
   "file_extension": ".py",
   "mimetype": "text/x-python",
   "name": "python",
   "nbconvert_exporter": "python",
   "pygments_lexer": "ipython3",
   "version": "3.7.3"
  }
 },
 "nbformat": 4,
 "nbformat_minor": 2
}
